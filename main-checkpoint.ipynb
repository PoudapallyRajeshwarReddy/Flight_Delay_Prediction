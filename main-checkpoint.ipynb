{
 "cells": [
  {
   "cell_type": "code",
   "execution_count": null,
   "metadata": {
    "id": "IrWg4sqHWeev"
   },
   "outputs": [],
   "source": [
    "# PREDICTING FLIGHT DELAYS"
   ]
  },
  {
   "cell_type": "code",
   "execution_count": null,
   "metadata": {},
   "outputs": [],
   "source": [
    "#code to mount data from the drive"
   ]
  },
  {
   "cell_type": "code",
   "execution_count": 1,
   "metadata": {
    "colab": {
     "base_uri": "https://localhost:8080/"
    },
    "executionInfo": {
     "elapsed": 1451,
     "status": "ok",
     "timestamp": 1606508731915,
     "user": {
      "displayName": "Ramesh Ravindran",
      "photoUrl": "https://lh3.googleusercontent.com/a-/AOh14GhcjUie2zDWpQEXGBSui04ZAq0Nl9CR7dlOS1FcBg=s64",
      "userId": "08375370966839671912"
     },
     "user_tz": -330
    },
    "id": "llPtuD6JWooB",
    "outputId": "03fc6263-e469-46b6-bcb2-7faf793f21bd"
   },
   "outputs": [],
   "source": [
    "\n",
    "#from google.colab import drive\n",
    "#drive.mount('/content/drive')"
   ]
  },
  {
   "cell_type": "markdown",
   "metadata": {},
   "source": [
    "Importing the Packages"
   ]
  },
  {
   "cell_type": "code",
   "execution_count": 2,
   "metadata": {
    "executionInfo": {
     "elapsed": 1889,
     "status": "ok",
     "timestamp": 1606508732366,
     "user": {
      "displayName": "Ramesh Ravindran",
      "photoUrl": "https://lh3.googleusercontent.com/a-/AOh14GhcjUie2zDWpQEXGBSui04ZAq0Nl9CR7dlOS1FcBg=s64",
      "userId": "08375370966839671912"
     },
     "user_tz": -330
    },
    "id": "Ar0doWiCWeew"
   },
   "outputs": [],
   "source": [
    "import numpy as np\n",
    "import pandas as pd\n",
    "import seaborn as sns\n",
    "import matplotlib.pyplot as plt\n",
    "import matplotlib as mpl\n",
    "import matplotlib.patches as patches\n",
    "from matplotlib.patches import ConnectionPatch\n",
    "from collections import OrderedDict\n",
    "from matplotlib.gridspec import GridSpec\n",
    "%matplotlib inline"
   ]
  },
  {
   "cell_type": "code",
   "execution_count": 3,
   "metadata": {
    "executionInfo": {
     "elapsed": 2379,
     "status": "ok",
     "timestamp": 1606508732864,
     "user": {
      "displayName": "Ramesh Ravindran",
      "photoUrl": "https://lh3.googleusercontent.com/a-/AOh14GhcjUie2zDWpQEXGBSui04ZAq0Nl9CR7dlOS1FcBg=s64",
      "userId": "08375370966839671912"
     },
     "user_tz": -330
    },
    "id": "LPmZHljYWeew"
   },
   "outputs": [],
   "source": [
    "pd.set_option('display.max_columns', None)\n",
    "pd.set_option('display.max_rows', None)"
   ]
  },
  {
   "cell_type": "code",
   "execution_count": null,
   "metadata": {},
   "outputs": [],
   "source": [
    "Exploring the data"
   ]
  },
  {
   "cell_type": "code",
   "execution_count": 4,
   "metadata": {
    "executionInfo": {
     "elapsed": 3061,
     "status": "ok",
     "timestamp": 1606508733552,
     "user": {
      "displayName": "Ramesh Ravindran",
      "photoUrl": "https://lh3.googleusercontent.com/a-/AOh14GhcjUie2zDWpQEXGBSui04ZAq0Nl9CR7dlOS1FcBg=s64",
      "userId": "08375370966839671912"
     },
     "user_tz": -330
    },
    "id": "Mhh4YzbVWeew"
   },
   "outputs": [],
   "source": [
    "df = pd.read_csv(\"Data/flight_data.csv\")\n",
    "planes = pd.read_csv(\"Data/planes.csv\")\n",
    "airports = pd.read_csv(\"Data/airports.csv\")\n",
    "carriers = pd.read_csv(\"Data/carriers.csv\")"
   ]
  },
  {
   "cell_type": "code",
   "execution_count": 5,
   "metadata": {
    "colab": {
     "base_uri": "https://localhost:8080/",
     "height": 309
    },
    "executionInfo": {
     "elapsed": 3053,
     "status": "ok",
     "timestamp": 1606508733554,
     "user": {
      "displayName": "Ramesh Ravindran",
      "photoUrl": "https://lh3.googleusercontent.com/a-/AOh14GhcjUie2zDWpQEXGBSui04ZAq0Nl9CR7dlOS1FcBg=s64",
      "userId": "08375370966839671912"
     },
     "user_tz": -330
    },
    "id": "yZ2XkrUpWeex",
    "outputId": "be0d99e3-9077-4cef-a528-9eb3a5121388",
    "scrolled": false
   },
   "outputs": [
    {
     "data": {
      "text/html": [
       "<div>\n",
       "<style scoped>\n",
       "    .dataframe tbody tr th:only-of-type {\n",
       "        vertical-align: middle;\n",
       "    }\n",
       "\n",
       "    .dataframe tbody tr th {\n",
       "        vertical-align: top;\n",
       "    }\n",
       "\n",
       "    .dataframe thead th {\n",
       "        text-align: right;\n",
       "    }\n",
       "</style>\n",
       "<table border=\"1\" class=\"dataframe\">\n",
       "  <thead>\n",
       "    <tr style=\"text-align: right;\">\n",
       "      <th></th>\n",
       "      <th>year</th>\n",
       "      <th>month</th>\n",
       "      <th>day</th>\n",
       "      <th>dep_time</th>\n",
       "      <th>sched_dep_time</th>\n",
       "      <th>dep_delay</th>\n",
       "      <th>arr_time</th>\n",
       "      <th>sched_arr_time</th>\n",
       "      <th>arr_delay</th>\n",
       "      <th>carrier</th>\n",
       "      <th>flight</th>\n",
       "      <th>tailnum</th>\n",
       "      <th>origin</th>\n",
       "      <th>dest</th>\n",
       "      <th>air_time</th>\n",
       "      <th>distance</th>\n",
       "      <th>hour</th>\n",
       "      <th>minute</th>\n",
       "      <th>time_hour</th>\n",
       "    </tr>\n",
       "  </thead>\n",
       "  <tbody>\n",
       "    <tr>\n",
       "      <td>0</td>\n",
       "      <td>2013</td>\n",
       "      <td>1</td>\n",
       "      <td>1</td>\n",
       "      <td>517.0</td>\n",
       "      <td>515</td>\n",
       "      <td>2.0</td>\n",
       "      <td>830.0</td>\n",
       "      <td>819</td>\n",
       "      <td>11.0</td>\n",
       "      <td>UA</td>\n",
       "      <td>1545</td>\n",
       "      <td>N14228</td>\n",
       "      <td>EWR</td>\n",
       "      <td>IAH</td>\n",
       "      <td>227.0</td>\n",
       "      <td>1400</td>\n",
       "      <td>5</td>\n",
       "      <td>15</td>\n",
       "      <td>1/1/2013 5:00</td>\n",
       "    </tr>\n",
       "    <tr>\n",
       "      <td>1</td>\n",
       "      <td>2013</td>\n",
       "      <td>1</td>\n",
       "      <td>1</td>\n",
       "      <td>533.0</td>\n",
       "      <td>529</td>\n",
       "      <td>4.0</td>\n",
       "      <td>850.0</td>\n",
       "      <td>830</td>\n",
       "      <td>20.0</td>\n",
       "      <td>UA</td>\n",
       "      <td>1714</td>\n",
       "      <td>N24211</td>\n",
       "      <td>LGA</td>\n",
       "      <td>IAH</td>\n",
       "      <td>227.0</td>\n",
       "      <td>1416</td>\n",
       "      <td>5</td>\n",
       "      <td>29</td>\n",
       "      <td>1/1/2013 5:00</td>\n",
       "    </tr>\n",
       "    <tr>\n",
       "      <td>2</td>\n",
       "      <td>2013</td>\n",
       "      <td>1</td>\n",
       "      <td>1</td>\n",
       "      <td>542.0</td>\n",
       "      <td>540</td>\n",
       "      <td>2.0</td>\n",
       "      <td>923.0</td>\n",
       "      <td>850</td>\n",
       "      <td>33.0</td>\n",
       "      <td>AA</td>\n",
       "      <td>1141</td>\n",
       "      <td>N619AA</td>\n",
       "      <td>JFK</td>\n",
       "      <td>MIA</td>\n",
       "      <td>160.0</td>\n",
       "      <td>1089</td>\n",
       "      <td>5</td>\n",
       "      <td>40</td>\n",
       "      <td>1/1/2013 5:00</td>\n",
       "    </tr>\n",
       "    <tr>\n",
       "      <td>3</td>\n",
       "      <td>2013</td>\n",
       "      <td>1</td>\n",
       "      <td>1</td>\n",
       "      <td>544.0</td>\n",
       "      <td>545</td>\n",
       "      <td>-1.0</td>\n",
       "      <td>1004.0</td>\n",
       "      <td>1022</td>\n",
       "      <td>-18.0</td>\n",
       "      <td>B6</td>\n",
       "      <td>725</td>\n",
       "      <td>N804JB</td>\n",
       "      <td>JFK</td>\n",
       "      <td>BQN</td>\n",
       "      <td>183.0</td>\n",
       "      <td>1576</td>\n",
       "      <td>5</td>\n",
       "      <td>45</td>\n",
       "      <td>1/1/2013 5:00</td>\n",
       "    </tr>\n",
       "    <tr>\n",
       "      <td>4</td>\n",
       "      <td>2013</td>\n",
       "      <td>1</td>\n",
       "      <td>1</td>\n",
       "      <td>554.0</td>\n",
       "      <td>600</td>\n",
       "      <td>-6.0</td>\n",
       "      <td>812.0</td>\n",
       "      <td>837</td>\n",
       "      <td>-25.0</td>\n",
       "      <td>DL</td>\n",
       "      <td>461</td>\n",
       "      <td>N668DN</td>\n",
       "      <td>LGA</td>\n",
       "      <td>ATL</td>\n",
       "      <td>116.0</td>\n",
       "      <td>762</td>\n",
       "      <td>6</td>\n",
       "      <td>0</td>\n",
       "      <td>1/1/2013 6:00</td>\n",
       "    </tr>\n",
       "  </tbody>\n",
       "</table>\n",
       "</div>"
      ],
      "text/plain": [
       "   year  month  day  dep_time  sched_dep_time  dep_delay  arr_time  \\\n",
       "0  2013      1    1     517.0             515        2.0     830.0   \n",
       "1  2013      1    1     533.0             529        4.0     850.0   \n",
       "2  2013      1    1     542.0             540        2.0     923.0   \n",
       "3  2013      1    1     544.0             545       -1.0    1004.0   \n",
       "4  2013      1    1     554.0             600       -6.0     812.0   \n",
       "\n",
       "   sched_arr_time  arr_delay carrier  flight tailnum origin dest  air_time  \\\n",
       "0             819       11.0      UA    1545  N14228    EWR  IAH     227.0   \n",
       "1             830       20.0      UA    1714  N24211    LGA  IAH     227.0   \n",
       "2             850       33.0      AA    1141  N619AA    JFK  MIA     160.0   \n",
       "3            1022      -18.0      B6     725  N804JB    JFK  BQN     183.0   \n",
       "4             837      -25.0      DL     461  N668DN    LGA  ATL     116.0   \n",
       "\n",
       "   distance  hour  minute      time_hour  \n",
       "0      1400     5      15  1/1/2013 5:00  \n",
       "1      1416     5      29  1/1/2013 5:00  \n",
       "2      1089     5      40  1/1/2013 5:00  \n",
       "3      1576     5      45  1/1/2013 5:00  \n",
       "4       762     6       0  1/1/2013 6:00  "
      ]
     },
     "execution_count": 5,
     "metadata": {},
     "output_type": "execute_result"
    }
   ],
   "source": [
    "df.head(5)"
   ]
  },
  {
   "cell_type": "code",
   "execution_count": 6,
   "metadata": {
    "colab": {
     "base_uri": "https://localhost:8080/"
    },
    "executionInfo": {
     "elapsed": 3042,
     "status": "ok",
     "timestamp": 1606508733559,
     "user": {
      "displayName": "Ramesh Ravindran",
      "photoUrl": "https://lh3.googleusercontent.com/a-/AOh14GhcjUie2zDWpQEXGBSui04ZAq0Nl9CR7dlOS1FcBg=s64",
      "userId": "08375370966839671912"
     },
     "user_tz": -330
    },
    "id": "q0vd2-8HWeez",
    "outputId": "6ccdec63-79e3-410a-e087-bc0db39fdeb5"
   },
   "outputs": [
    {
     "data": {
      "text/plain": [
       "(336776, 19)"
      ]
     },
     "execution_count": 6,
     "metadata": {},
     "output_type": "execute_result"
    }
   ],
   "source": [
    "# Checking the dimensions of the 'flight_data' dataset\n",
    "df.shape"
   ]
  },
  {
   "cell_type": "code",
   "execution_count": 7,
   "metadata": {
    "colab": {
     "base_uri": "https://localhost:8080/"
    },
    "executionInfo": {
     "elapsed": 3033,
     "status": "ok",
     "timestamp": 1606508733561,
     "user": {
      "displayName": "Ramesh Ravindran",
      "photoUrl": "https://lh3.googleusercontent.com/a-/AOh14GhcjUie2zDWpQEXGBSui04ZAq0Nl9CR7dlOS1FcBg=s64",
      "userId": "08375370966839671912"
     },
     "user_tz": -330
    },
    "id": "jxe1BoCWWeez",
    "outputId": "5a38c067-4394-4759-9c3f-712650128213"
   },
   "outputs": [
    {
     "data": {
      "text/plain": [
       "year                 0\n",
       "month                0\n",
       "day                  0\n",
       "dep_time          8255\n",
       "sched_dep_time       0\n",
       "dep_delay         8255\n",
       "arr_time          8713\n",
       "sched_arr_time       0\n",
       "arr_delay         9430\n",
       "carrier              0\n",
       "flight               0\n",
       "tailnum           2512\n",
       "origin               0\n",
       "dest                 0\n",
       "air_time          9430\n",
       "distance             0\n",
       "hour                 0\n",
       "minute               0\n",
       "time_hour            0\n",
       "dtype: int64"
      ]
     },
     "execution_count": 7,
     "metadata": {},
     "output_type": "execute_result"
    }
   ],
   "source": [
    "# Now checking whther the dataset contains the NULL values or not.\n",
    "df.isnull().sum()"
   ]
  },
  {
   "cell_type": "code",
   "execution_count": 8,
   "metadata": {
    "executionInfo": {
     "elapsed": 3025,
     "status": "ok",
     "timestamp": 1606508733562,
     "user": {
      "displayName": "Ramesh Ravindran",
      "photoUrl": "https://lh3.googleusercontent.com/a-/AOh14GhcjUie2zDWpQEXGBSui04ZAq0Nl9CR7dlOS1FcBg=s64",
      "userId": "08375370966839671912"
     },
     "user_tz": -330
    },
    "id": "FqXHS8KkWee0"
   },
   "outputs": [],
   "source": [
    "# Dropping the rows that have NaN i.e. NULL values in them\n",
    "df = df.dropna()"
   ]
  },
  {
   "cell_type": "code",
   "execution_count": 9,
   "metadata": {
    "colab": {
     "base_uri": "https://localhost:8080/",
     "height": 309
    },
    "executionInfo": {
     "elapsed": 3014,
     "status": "ok",
     "timestamp": 1606508733564,
     "user": {
      "displayName": "Ramesh Ravindran",
      "photoUrl": "https://lh3.googleusercontent.com/a-/AOh14GhcjUie2zDWpQEXGBSui04ZAq0Nl9CR7dlOS1FcBg=s64",
      "userId": "08375370966839671912"
     },
     "user_tz": -330
    },
    "id": "tbDLnrj5Wee0",
    "outputId": "81ed9536-cf95-4a35-bc55-da9feb02f1f7"
   },
   "outputs": [
    {
     "data": {
      "text/html": [
       "<div>\n",
       "<style scoped>\n",
       "    .dataframe tbody tr th:only-of-type {\n",
       "        vertical-align: middle;\n",
       "    }\n",
       "\n",
       "    .dataframe tbody tr th {\n",
       "        vertical-align: top;\n",
       "    }\n",
       "\n",
       "    .dataframe thead th {\n",
       "        text-align: right;\n",
       "    }\n",
       "</style>\n",
       "<table border=\"1\" class=\"dataframe\">\n",
       "  <thead>\n",
       "    <tr style=\"text-align: right;\">\n",
       "      <th></th>\n",
       "      <th>year</th>\n",
       "      <th>month</th>\n",
       "      <th>day</th>\n",
       "      <th>dep_time</th>\n",
       "      <th>sched_dep_time</th>\n",
       "      <th>dep_delay</th>\n",
       "      <th>arr_time</th>\n",
       "      <th>sched_arr_time</th>\n",
       "      <th>arr_delay</th>\n",
       "      <th>carrier</th>\n",
       "      <th>flight</th>\n",
       "      <th>tailnum</th>\n",
       "      <th>origin</th>\n",
       "      <th>dest</th>\n",
       "      <th>air_time</th>\n",
       "      <th>distance</th>\n",
       "      <th>hour</th>\n",
       "      <th>minute</th>\n",
       "      <th>time_hour</th>\n",
       "    </tr>\n",
       "  </thead>\n",
       "  <tbody>\n",
       "    <tr>\n",
       "      <td>0</td>\n",
       "      <td>2013</td>\n",
       "      <td>1</td>\n",
       "      <td>1</td>\n",
       "      <td>517.0</td>\n",
       "      <td>515</td>\n",
       "      <td>2.0</td>\n",
       "      <td>830.0</td>\n",
       "      <td>819</td>\n",
       "      <td>11.0</td>\n",
       "      <td>UA</td>\n",
       "      <td>1545</td>\n",
       "      <td>N14228</td>\n",
       "      <td>EWR</td>\n",
       "      <td>IAH</td>\n",
       "      <td>227.0</td>\n",
       "      <td>1400</td>\n",
       "      <td>5</td>\n",
       "      <td>15</td>\n",
       "      <td>1/1/2013 5:00</td>\n",
       "    </tr>\n",
       "    <tr>\n",
       "      <td>1</td>\n",
       "      <td>2013</td>\n",
       "      <td>1</td>\n",
       "      <td>1</td>\n",
       "      <td>533.0</td>\n",
       "      <td>529</td>\n",
       "      <td>4.0</td>\n",
       "      <td>850.0</td>\n",
       "      <td>830</td>\n",
       "      <td>20.0</td>\n",
       "      <td>UA</td>\n",
       "      <td>1714</td>\n",
       "      <td>N24211</td>\n",
       "      <td>LGA</td>\n",
       "      <td>IAH</td>\n",
       "      <td>227.0</td>\n",
       "      <td>1416</td>\n",
       "      <td>5</td>\n",
       "      <td>29</td>\n",
       "      <td>1/1/2013 5:00</td>\n",
       "    </tr>\n",
       "    <tr>\n",
       "      <td>2</td>\n",
       "      <td>2013</td>\n",
       "      <td>1</td>\n",
       "      <td>1</td>\n",
       "      <td>542.0</td>\n",
       "      <td>540</td>\n",
       "      <td>2.0</td>\n",
       "      <td>923.0</td>\n",
       "      <td>850</td>\n",
       "      <td>33.0</td>\n",
       "      <td>AA</td>\n",
       "      <td>1141</td>\n",
       "      <td>N619AA</td>\n",
       "      <td>JFK</td>\n",
       "      <td>MIA</td>\n",
       "      <td>160.0</td>\n",
       "      <td>1089</td>\n",
       "      <td>5</td>\n",
       "      <td>40</td>\n",
       "      <td>1/1/2013 5:00</td>\n",
       "    </tr>\n",
       "    <tr>\n",
       "      <td>3</td>\n",
       "      <td>2013</td>\n",
       "      <td>1</td>\n",
       "      <td>1</td>\n",
       "      <td>544.0</td>\n",
       "      <td>545</td>\n",
       "      <td>-1.0</td>\n",
       "      <td>1004.0</td>\n",
       "      <td>1022</td>\n",
       "      <td>-18.0</td>\n",
       "      <td>B6</td>\n",
       "      <td>725</td>\n",
       "      <td>N804JB</td>\n",
       "      <td>JFK</td>\n",
       "      <td>BQN</td>\n",
       "      <td>183.0</td>\n",
       "      <td>1576</td>\n",
       "      <td>5</td>\n",
       "      <td>45</td>\n",
       "      <td>1/1/2013 5:00</td>\n",
       "    </tr>\n",
       "    <tr>\n",
       "      <td>4</td>\n",
       "      <td>2013</td>\n",
       "      <td>1</td>\n",
       "      <td>1</td>\n",
       "      <td>554.0</td>\n",
       "      <td>600</td>\n",
       "      <td>-6.0</td>\n",
       "      <td>812.0</td>\n",
       "      <td>837</td>\n",
       "      <td>-25.0</td>\n",
       "      <td>DL</td>\n",
       "      <td>461</td>\n",
       "      <td>N668DN</td>\n",
       "      <td>LGA</td>\n",
       "      <td>ATL</td>\n",
       "      <td>116.0</td>\n",
       "      <td>762</td>\n",
       "      <td>6</td>\n",
       "      <td>0</td>\n",
       "      <td>1/1/2013 6:00</td>\n",
       "    </tr>\n",
       "  </tbody>\n",
       "</table>\n",
       "</div>"
      ],
      "text/plain": [
       "   year  month  day  dep_time  sched_dep_time  dep_delay  arr_time  \\\n",
       "0  2013      1    1     517.0             515        2.0     830.0   \n",
       "1  2013      1    1     533.0             529        4.0     850.0   \n",
       "2  2013      1    1     542.0             540        2.0     923.0   \n",
       "3  2013      1    1     544.0             545       -1.0    1004.0   \n",
       "4  2013      1    1     554.0             600       -6.0     812.0   \n",
       "\n",
       "   sched_arr_time  arr_delay carrier  flight tailnum origin dest  air_time  \\\n",
       "0             819       11.0      UA    1545  N14228    EWR  IAH     227.0   \n",
       "1             830       20.0      UA    1714  N24211    LGA  IAH     227.0   \n",
       "2             850       33.0      AA    1141  N619AA    JFK  MIA     160.0   \n",
       "3            1022      -18.0      B6     725  N804JB    JFK  BQN     183.0   \n",
       "4             837      -25.0      DL     461  N668DN    LGA  ATL     116.0   \n",
       "\n",
       "   distance  hour  minute      time_hour  \n",
       "0      1400     5      15  1/1/2013 5:00  \n",
       "1      1416     5      29  1/1/2013 5:00  \n",
       "2      1089     5      40  1/1/2013 5:00  \n",
       "3      1576     5      45  1/1/2013 5:00  \n",
       "4       762     6       0  1/1/2013 6:00  "
      ]
     },
     "execution_count": 9,
     "metadata": {},
     "output_type": "execute_result"
    }
   ],
   "source": [
    "df.head(5)"
   ]
  },
  {
   "cell_type": "code",
   "execution_count": 10,
   "metadata": {
    "colab": {
     "base_uri": "https://localhost:8080/"
    },
    "executionInfo": {
     "elapsed": 3469,
     "status": "ok",
     "timestamp": 1606508734033,
     "user": {
      "displayName": "Ramesh Ravindran",
      "photoUrl": "https://lh3.googleusercontent.com/a-/AOh14GhcjUie2zDWpQEXGBSui04ZAq0Nl9CR7dlOS1FcBg=s64",
      "userId": "08375370966839671912"
     },
     "user_tz": -330
    },
    "id": "739PV6htWee0",
    "outputId": "72dc91a2-0925-4dee-90c0-588b62dcec9f"
   },
   "outputs": [
    {
     "data": {
      "text/plain": [
       "(327346, 19)"
      ]
     },
     "execution_count": 10,
     "metadata": {},
     "output_type": "execute_result"
    }
   ],
   "source": [
    "# Dimension after dropping the rows containing NULL values\n",
    "df.shape"
   ]
  },
  {
   "cell_type": "code",
   "execution_count": 11,
   "metadata": {
    "colab": {
     "base_uri": "https://localhost:8080/"
    },
    "executionInfo": {
     "elapsed": 3462,
     "status": "ok",
     "timestamp": 1606508734036,
     "user": {
      "displayName": "Ramesh Ravindran",
      "photoUrl": "https://lh3.googleusercontent.com/a-/AOh14GhcjUie2zDWpQEXGBSui04ZAq0Nl9CR7dlOS1FcBg=s64",
      "userId": "08375370966839671912"
     },
     "user_tz": -330
    },
    "id": "gO546HJMWee0",
    "outputId": "74026473-4532-4503-9d5e-5c1eaf2fe2ea"
   },
   "outputs": [
    {
     "data": {
      "text/plain": [
       "year              0\n",
       "month             0\n",
       "day               0\n",
       "dep_time          0\n",
       "sched_dep_time    0\n",
       "dep_delay         0\n",
       "arr_time          0\n",
       "sched_arr_time    0\n",
       "arr_delay         0\n",
       "carrier           0\n",
       "flight            0\n",
       "tailnum           0\n",
       "origin            0\n",
       "dest              0\n",
       "air_time          0\n",
       "distance          0\n",
       "hour              0\n",
       "minute            0\n",
       "time_hour         0\n",
       "dtype: int64"
      ]
     },
     "execution_count": 11,
     "metadata": {},
     "output_type": "execute_result"
    }
   ],
   "source": [
    "# Now again checking whether the dataset till contains any NULL values\n",
    "df.isnull().sum()"
   ]
  },
  {
   "cell_type": "code",
   "execution_count": 12,
   "metadata": {
    "colab": {
     "base_uri": "https://localhost:8080/"
    },
    "executionInfo": {
     "elapsed": 3451,
     "status": "ok",
     "timestamp": 1606508734037,
     "user": {
      "displayName": "Ramesh Ravindran",
      "photoUrl": "https://lh3.googleusercontent.com/a-/AOh14GhcjUie2zDWpQEXGBSui04ZAq0Nl9CR7dlOS1FcBg=s64",
      "userId": "08375370966839671912"
     },
     "user_tz": -330
    },
    "id": "JQiy0n4cWee0",
    "outputId": "6cee29eb-feb5-4864-9f26-93c161355f0a"
   },
   "outputs": [
    {
     "name": "stdout",
     "output_type": "stream",
     "text": [
      "<class 'pandas.core.frame.DataFrame'>\n",
      "Int64Index: 327346 entries, 0 to 336769\n",
      "Data columns (total 19 columns):\n",
      "year              327346 non-null int64\n",
      "month             327346 non-null int64\n",
      "day               327346 non-null int64\n",
      "dep_time          327346 non-null float64\n",
      "sched_dep_time    327346 non-null int64\n",
      "dep_delay         327346 non-null float64\n",
      "arr_time          327346 non-null float64\n",
      "sched_arr_time    327346 non-null int64\n",
      "arr_delay         327346 non-null float64\n",
      "carrier           327346 non-null object\n",
      "flight            327346 non-null int64\n",
      "tailnum           327346 non-null object\n",
      "origin            327346 non-null object\n",
      "dest              327346 non-null object\n",
      "air_time          327346 non-null float64\n",
      "distance          327346 non-null int64\n",
      "hour              327346 non-null int64\n",
      "minute            327346 non-null int64\n",
      "time_hour         327346 non-null object\n",
      "dtypes: float64(5), int64(9), object(5)\n",
      "memory usage: 49.9+ MB\n"
     ]
    }
   ],
   "source": [
    "# Before type casting of 'dep_time', 'dep_delay', 'arr_time', 'arr_delay'\n",
    "df.info()"
   ]
  },
  {
   "cell_type": "code",
   "execution_count": 13,
   "metadata": {
    "executionInfo": {
     "elapsed": 3446,
     "status": "ok",
     "timestamp": 1606508734039,
     "user": {
      "displayName": "Ramesh Ravindran",
      "photoUrl": "https://lh3.googleusercontent.com/a-/AOh14GhcjUie2zDWpQEXGBSui04ZAq0Nl9CR7dlOS1FcBg=s64",
      "userId": "08375370966839671912"
     },
     "user_tz": -330
    },
    "id": "7qC41qLlWee1"
   },
   "outputs": [],
   "source": [
    "# Type casting\n",
    "df['dep_time'] = df['dep_time'].astype('int64')\n",
    "df['dep_delay'] = df['dep_delay'].astype('int64')\n",
    "df['arr_time'] = df['arr_time'].astype('int64')\n",
    "df['arr_delay'] = df['arr_delay'].astype('int64')"
   ]
  },
  {
   "cell_type": "code",
   "execution_count": 14,
   "metadata": {
    "colab": {
     "base_uri": "https://localhost:8080/"
    },
    "executionInfo": {
     "elapsed": 3438,
     "status": "ok",
     "timestamp": 1606508734041,
     "user": {
      "displayName": "Ramesh Ravindran",
      "photoUrl": "https://lh3.googleusercontent.com/a-/AOh14GhcjUie2zDWpQEXGBSui04ZAq0Nl9CR7dlOS1FcBg=s64",
      "userId": "08375370966839671912"
     },
     "user_tz": -330
    },
    "id": "HieRF6UzWee1",
    "outputId": "02bbf02b-8e89-45f7-8304-d2d0ebe2fd11"
   },
   "outputs": [
    {
     "name": "stdout",
     "output_type": "stream",
     "text": [
      "<class 'pandas.core.frame.DataFrame'>\n",
      "Int64Index: 327346 entries, 0 to 336769\n",
      "Data columns (total 19 columns):\n",
      "year              327346 non-null int64\n",
      "month             327346 non-null int64\n",
      "day               327346 non-null int64\n",
      "dep_time          327346 non-null int64\n",
      "sched_dep_time    327346 non-null int64\n",
      "dep_delay         327346 non-null int64\n",
      "arr_time          327346 non-null int64\n",
      "sched_arr_time    327346 non-null int64\n",
      "arr_delay         327346 non-null int64\n",
      "carrier           327346 non-null object\n",
      "flight            327346 non-null int64\n",
      "tailnum           327346 non-null object\n",
      "origin            327346 non-null object\n",
      "dest              327346 non-null object\n",
      "air_time          327346 non-null float64\n",
      "distance          327346 non-null int64\n",
      "hour              327346 non-null int64\n",
      "minute            327346 non-null int64\n",
      "time_hour         327346 non-null object\n",
      "dtypes: float64(1), int64(13), object(5)\n",
      "memory usage: 49.9+ MB\n"
     ]
    }
   ],
   "source": [
    "# After type casting of 'dep_time', 'dep_delay', 'arr_time', 'arr_delay'\n",
    "df.info()"
   ]
  },
  {
   "cell_type": "code",
   "execution_count": 15,
   "metadata": {
    "colab": {
     "base_uri": "https://localhost:8080/",
     "height": 549
    },
    "executionInfo": {
     "elapsed": 3427,
     "status": "ok",
     "timestamp": 1606508734043,
     "user": {
      "displayName": "Ramesh Ravindran",
      "photoUrl": "https://lh3.googleusercontent.com/a-/AOh14GhcjUie2zDWpQEXGBSui04ZAq0Nl9CR7dlOS1FcBg=s64",
      "userId": "08375370966839671912"
     },
     "user_tz": -330
    },
    "id": "8OLg5NEVWee1",
    "outputId": "fb25c380-4402-4fac-ff70-15f143b5ed46"
   },
   "outputs": [
    {
     "data": {
      "text/html": [
       "<div>\n",
       "<style scoped>\n",
       "    .dataframe tbody tr th:only-of-type {\n",
       "        vertical-align: middle;\n",
       "    }\n",
       "\n",
       "    .dataframe tbody tr th {\n",
       "        vertical-align: top;\n",
       "    }\n",
       "\n",
       "    .dataframe thead th {\n",
       "        text-align: right;\n",
       "    }\n",
       "</style>\n",
       "<table border=\"1\" class=\"dataframe\">\n",
       "  <thead>\n",
       "    <tr style=\"text-align: right;\">\n",
       "      <th></th>\n",
       "      <th>year</th>\n",
       "      <th>month</th>\n",
       "      <th>day</th>\n",
       "      <th>dep_time</th>\n",
       "      <th>sched_dep_time</th>\n",
       "      <th>dep_delay</th>\n",
       "      <th>arr_time</th>\n",
       "      <th>sched_arr_time</th>\n",
       "      <th>arr_delay</th>\n",
       "      <th>carrier</th>\n",
       "      <th>flight</th>\n",
       "      <th>tailnum</th>\n",
       "      <th>origin</th>\n",
       "      <th>dest</th>\n",
       "      <th>air_time</th>\n",
       "      <th>distance</th>\n",
       "      <th>hour</th>\n",
       "      <th>minute</th>\n",
       "      <th>time_hour</th>\n",
       "    </tr>\n",
       "  </thead>\n",
       "  <tbody>\n",
       "    <tr>\n",
       "      <td>0</td>\n",
       "      <td>2013</td>\n",
       "      <td>1</td>\n",
       "      <td>1</td>\n",
       "      <td>517</td>\n",
       "      <td>515</td>\n",
       "      <td>2</td>\n",
       "      <td>830</td>\n",
       "      <td>819</td>\n",
       "      <td>11</td>\n",
       "      <td>UA</td>\n",
       "      <td>1545</td>\n",
       "      <td>N14228</td>\n",
       "      <td>EWR</td>\n",
       "      <td>IAH</td>\n",
       "      <td>227.0</td>\n",
       "      <td>1400</td>\n",
       "      <td>5</td>\n",
       "      <td>15</td>\n",
       "      <td>1/1/2013 5:00</td>\n",
       "    </tr>\n",
       "    <tr>\n",
       "      <td>1</td>\n",
       "      <td>2013</td>\n",
       "      <td>1</td>\n",
       "      <td>1</td>\n",
       "      <td>533</td>\n",
       "      <td>529</td>\n",
       "      <td>4</td>\n",
       "      <td>850</td>\n",
       "      <td>830</td>\n",
       "      <td>20</td>\n",
       "      <td>UA</td>\n",
       "      <td>1714</td>\n",
       "      <td>N24211</td>\n",
       "      <td>LGA</td>\n",
       "      <td>IAH</td>\n",
       "      <td>227.0</td>\n",
       "      <td>1416</td>\n",
       "      <td>5</td>\n",
       "      <td>29</td>\n",
       "      <td>1/1/2013 5:00</td>\n",
       "    </tr>\n",
       "    <tr>\n",
       "      <td>2</td>\n",
       "      <td>2013</td>\n",
       "      <td>1</td>\n",
       "      <td>1</td>\n",
       "      <td>542</td>\n",
       "      <td>540</td>\n",
       "      <td>2</td>\n",
       "      <td>923</td>\n",
       "      <td>850</td>\n",
       "      <td>33</td>\n",
       "      <td>AA</td>\n",
       "      <td>1141</td>\n",
       "      <td>N619AA</td>\n",
       "      <td>JFK</td>\n",
       "      <td>MIA</td>\n",
       "      <td>160.0</td>\n",
       "      <td>1089</td>\n",
       "      <td>5</td>\n",
       "      <td>40</td>\n",
       "      <td>1/1/2013 5:00</td>\n",
       "    </tr>\n",
       "    <tr>\n",
       "      <td>3</td>\n",
       "      <td>2013</td>\n",
       "      <td>1</td>\n",
       "      <td>1</td>\n",
       "      <td>544</td>\n",
       "      <td>545</td>\n",
       "      <td>-1</td>\n",
       "      <td>1004</td>\n",
       "      <td>1022</td>\n",
       "      <td>-18</td>\n",
       "      <td>B6</td>\n",
       "      <td>725</td>\n",
       "      <td>N804JB</td>\n",
       "      <td>JFK</td>\n",
       "      <td>BQN</td>\n",
       "      <td>183.0</td>\n",
       "      <td>1576</td>\n",
       "      <td>5</td>\n",
       "      <td>45</td>\n",
       "      <td>1/1/2013 5:00</td>\n",
       "    </tr>\n",
       "    <tr>\n",
       "      <td>4</td>\n",
       "      <td>2013</td>\n",
       "      <td>1</td>\n",
       "      <td>1</td>\n",
       "      <td>554</td>\n",
       "      <td>600</td>\n",
       "      <td>-6</td>\n",
       "      <td>812</td>\n",
       "      <td>837</td>\n",
       "      <td>-25</td>\n",
       "      <td>DL</td>\n",
       "      <td>461</td>\n",
       "      <td>N668DN</td>\n",
       "      <td>LGA</td>\n",
       "      <td>ATL</td>\n",
       "      <td>116.0</td>\n",
       "      <td>762</td>\n",
       "      <td>6</td>\n",
       "      <td>0</td>\n",
       "      <td>1/1/2013 6:00</td>\n",
       "    </tr>\n",
       "    <tr>\n",
       "      <td>5</td>\n",
       "      <td>2013</td>\n",
       "      <td>1</td>\n",
       "      <td>1</td>\n",
       "      <td>554</td>\n",
       "      <td>558</td>\n",
       "      <td>-4</td>\n",
       "      <td>740</td>\n",
       "      <td>728</td>\n",
       "      <td>12</td>\n",
       "      <td>UA</td>\n",
       "      <td>1696</td>\n",
       "      <td>N39463</td>\n",
       "      <td>EWR</td>\n",
       "      <td>ORD</td>\n",
       "      <td>150.0</td>\n",
       "      <td>719</td>\n",
       "      <td>5</td>\n",
       "      <td>58</td>\n",
       "      <td>1/1/2013 5:00</td>\n",
       "    </tr>\n",
       "    <tr>\n",
       "      <td>6</td>\n",
       "      <td>2013</td>\n",
       "      <td>1</td>\n",
       "      <td>1</td>\n",
       "      <td>555</td>\n",
       "      <td>600</td>\n",
       "      <td>-5</td>\n",
       "      <td>913</td>\n",
       "      <td>854</td>\n",
       "      <td>19</td>\n",
       "      <td>B6</td>\n",
       "      <td>507</td>\n",
       "      <td>N516JB</td>\n",
       "      <td>EWR</td>\n",
       "      <td>FLL</td>\n",
       "      <td>158.0</td>\n",
       "      <td>1065</td>\n",
       "      <td>6</td>\n",
       "      <td>0</td>\n",
       "      <td>1/1/2013 6:00</td>\n",
       "    </tr>\n",
       "    <tr>\n",
       "      <td>7</td>\n",
       "      <td>2013</td>\n",
       "      <td>1</td>\n",
       "      <td>1</td>\n",
       "      <td>557</td>\n",
       "      <td>600</td>\n",
       "      <td>-3</td>\n",
       "      <td>709</td>\n",
       "      <td>723</td>\n",
       "      <td>-14</td>\n",
       "      <td>EV</td>\n",
       "      <td>5708</td>\n",
       "      <td>N829AS</td>\n",
       "      <td>LGA</td>\n",
       "      <td>IAD</td>\n",
       "      <td>53.0</td>\n",
       "      <td>229</td>\n",
       "      <td>6</td>\n",
       "      <td>0</td>\n",
       "      <td>1/1/2013 6:00</td>\n",
       "    </tr>\n",
       "    <tr>\n",
       "      <td>8</td>\n",
       "      <td>2013</td>\n",
       "      <td>1</td>\n",
       "      <td>1</td>\n",
       "      <td>557</td>\n",
       "      <td>600</td>\n",
       "      <td>-3</td>\n",
       "      <td>838</td>\n",
       "      <td>846</td>\n",
       "      <td>-8</td>\n",
       "      <td>B6</td>\n",
       "      <td>79</td>\n",
       "      <td>N593JB</td>\n",
       "      <td>JFK</td>\n",
       "      <td>MCO</td>\n",
       "      <td>140.0</td>\n",
       "      <td>944</td>\n",
       "      <td>6</td>\n",
       "      <td>0</td>\n",
       "      <td>1/1/2013 6:00</td>\n",
       "    </tr>\n",
       "    <tr>\n",
       "      <td>9</td>\n",
       "      <td>2013</td>\n",
       "      <td>1</td>\n",
       "      <td>1</td>\n",
       "      <td>558</td>\n",
       "      <td>600</td>\n",
       "      <td>-2</td>\n",
       "      <td>753</td>\n",
       "      <td>745</td>\n",
       "      <td>8</td>\n",
       "      <td>AA</td>\n",
       "      <td>301</td>\n",
       "      <td>N3ALAA</td>\n",
       "      <td>LGA</td>\n",
       "      <td>ORD</td>\n",
       "      <td>138.0</td>\n",
       "      <td>733</td>\n",
       "      <td>6</td>\n",
       "      <td>0</td>\n",
       "      <td>1/1/2013 6:00</td>\n",
       "    </tr>\n",
       "  </tbody>\n",
       "</table>\n",
       "</div>"
      ],
      "text/plain": [
       "   year  month  day  dep_time  sched_dep_time  dep_delay  arr_time  \\\n",
       "0  2013      1    1       517             515          2       830   \n",
       "1  2013      1    1       533             529          4       850   \n",
       "2  2013      1    1       542             540          2       923   \n",
       "3  2013      1    1       544             545         -1      1004   \n",
       "4  2013      1    1       554             600         -6       812   \n",
       "5  2013      1    1       554             558         -4       740   \n",
       "6  2013      1    1       555             600         -5       913   \n",
       "7  2013      1    1       557             600         -3       709   \n",
       "8  2013      1    1       557             600         -3       838   \n",
       "9  2013      1    1       558             600         -2       753   \n",
       "\n",
       "   sched_arr_time  arr_delay carrier  flight tailnum origin dest  air_time  \\\n",
       "0             819         11      UA    1545  N14228    EWR  IAH     227.0   \n",
       "1             830         20      UA    1714  N24211    LGA  IAH     227.0   \n",
       "2             850         33      AA    1141  N619AA    JFK  MIA     160.0   \n",
       "3            1022        -18      B6     725  N804JB    JFK  BQN     183.0   \n",
       "4             837        -25      DL     461  N668DN    LGA  ATL     116.0   \n",
       "5             728         12      UA    1696  N39463    EWR  ORD     150.0   \n",
       "6             854         19      B6     507  N516JB    EWR  FLL     158.0   \n",
       "7             723        -14      EV    5708  N829AS    LGA  IAD      53.0   \n",
       "8             846         -8      B6      79  N593JB    JFK  MCO     140.0   \n",
       "9             745          8      AA     301  N3ALAA    LGA  ORD     138.0   \n",
       "\n",
       "   distance  hour  minute      time_hour  \n",
       "0      1400     5      15  1/1/2013 5:00  \n",
       "1      1416     5      29  1/1/2013 5:00  \n",
       "2      1089     5      40  1/1/2013 5:00  \n",
       "3      1576     5      45  1/1/2013 5:00  \n",
       "4       762     6       0  1/1/2013 6:00  \n",
       "5       719     5      58  1/1/2013 5:00  \n",
       "6      1065     6       0  1/1/2013 6:00  \n",
       "7       229     6       0  1/1/2013 6:00  \n",
       "8       944     6       0  1/1/2013 6:00  \n",
       "9       733     6       0  1/1/2013 6:00  "
      ]
     },
     "execution_count": 15,
     "metadata": {},
     "output_type": "execute_result"
    }
   ],
   "source": [
    "df.head(10)"
   ]
  },
  {
   "cell_type": "markdown",
   "metadata": {
    "id": "FqUNNMwtWee1"
   },
   "source": [
    "# Exploratory Data Analysis"
   ]
  },
  {
   "cell_type": "code",
   "execution_count": 16,
   "metadata": {
    "colab": {
     "base_uri": "https://localhost:8080/",
     "height": 401
    },
    "executionInfo": {
     "elapsed": 5251,
     "status": "ok",
     "timestamp": 1606508735882,
     "user": {
      "displayName": "Ramesh Ravindran",
      "photoUrl": "https://lh3.googleusercontent.com/a-/AOh14GhcjUie2zDWpQEXGBSui04ZAq0Nl9CR7dlOS1FcBg=s64",
      "userId": "08375370966839671912"
     },
     "user_tz": -330
    },
    "id": "RelYeDBlWee1",
    "outputId": "d2b9bdf9-1f5f-47ae-84fc-d75242231675"
   },
   "outputs": [
    {
     "data": {
      "image/png": "[encoded data removed]",
      "text/plain": [
       "<Figure size 1296x432 with 1 Axes>"
      ]
     },
     "metadata": {
      "needs_background": "light"
     },
     "output_type": "display_data"
    }
   ],
   "source": [
    "plt.figure(figsize = (18, 6))\n",
    "sns.countplot(df['month'])\n",
    "plt.title('Month Distribution', size = 25)\n",
    "plt.xticks(size = 15)\n",
    "plt.yticks(size = 15)\n",
    "plt.xlabel(\"Months\", size = 20)\n",
    "plt.ylabel(\"Frequency\", size = 20)\n",
    "plt.show()"
   ]
  },
  {
   "cell_type": "markdown",
   "metadata": {
    "id": "RR-4tMAIWee1"
   },
   "source": [
    "Market share of each Airline(carrier)"
   ]
  },
  {
   "cell_type": "code",
   "execution_count": 17,
   "metadata": {
    "colab": {
     "base_uri": "https://localhost:8080/",
     "height": 364
    },
    "executionInfo": {
     "elapsed": 8306,
     "status": "ok",
     "timestamp": 1606508738953,
     "user": {
      "displayName": "Ramesh Ravindran",
      "photoUrl": "https://lh3.googleusercontent.com/a-/AOh14GhcjUie2zDWpQEXGBSui04ZAq0Nl9CR7dlOS1FcBg=s64",
      "userId": "08375370966839671912"
     },
     "user_tz": -330
    },
    "id": "MnVPU5DzWee1",
    "outputId": "015fcf4b-8d52-41ec-f0c7-dcb4af72ce83"
   },
   "outputs": [
    {
     "data": {
      "image/png": "[encoded data removed]",
      "text/plain": [
       "<Figure size 1440x432 with 1 Axes>"
      ]
     },
     "metadata": {
      "needs_background": "light"
     },
     "output_type": "display_data"
    }
   ],
   "source": [
    "plt.figure(figsize = (20, 6))\n",
    "sns.countplot(df['carrier'])\n",
    "plt.title('Various Carriers in US')\n",
    "plt.xticks(size = 15)\n",
    "plt.yticks(size = 15)\n",
    "plt.xlabel(\"Carriers\", size = 20)\n",
    "plt.ylabel(\"Frequency\", size = 20)\n",
    "plt.show()"
   ]
  },
  {
   "cell_type": "code",
   "execution_count": 18,
   "metadata": {
    "colab": {
     "base_uri": "https://localhost:8080/",
     "height": 545
    },
    "executionInfo": {
     "elapsed": 8294,
     "status": "ok",
     "timestamp": 1606508738955,
     "user": {
      "displayName": "Ramesh Ravindran",
      "photoUrl": "https://lh3.googleusercontent.com/a-/AOh14GhcjUie2zDWpQEXGBSui04ZAq0Nl9CR7dlOS1FcBg=s64",
      "userId": "08375370966839671912"
     },
     "user_tz": -330
    },
    "id": "ZY6OqBKtWee2",
    "outputId": "233c36ee-1899-452b-a34d-c70a4339dead"
   },
   "outputs": [
    {
     "data": {
      "text/html": [
       "<div>\n",
       "<style scoped>\n",
       "    .dataframe tbody tr th:only-of-type {\n",
       "        vertical-align: middle;\n",
       "    }\n",
       "\n",
       "    .dataframe tbody tr th {\n",
       "        vertical-align: top;\n",
       "    }\n",
       "\n",
       "    .dataframe thead th {\n",
       "        text-align: right;\n",
       "    }\n",
       "</style>\n",
       "<table border=\"1\" class=\"dataframe\">\n",
       "  <thead>\n",
       "    <tr style=\"text-align: right;\">\n",
       "      <th></th>\n",
       "      <th>carrier</th>\n",
       "    </tr>\n",
       "  </thead>\n",
       "  <tbody>\n",
       "    <tr>\n",
       "      <td>UA</td>\n",
       "      <td>57782</td>\n",
       "    </tr>\n",
       "    <tr>\n",
       "      <td>B6</td>\n",
       "      <td>54049</td>\n",
       "    </tr>\n",
       "    <tr>\n",
       "      <td>EV</td>\n",
       "      <td>51108</td>\n",
       "    </tr>\n",
       "    <tr>\n",
       "      <td>DL</td>\n",
       "      <td>47658</td>\n",
       "    </tr>\n",
       "    <tr>\n",
       "      <td>AA</td>\n",
       "      <td>31947</td>\n",
       "    </tr>\n",
       "    <tr>\n",
       "      <td>MQ</td>\n",
       "      <td>25037</td>\n",
       "    </tr>\n",
       "    <tr>\n",
       "      <td>US</td>\n",
       "      <td>19831</td>\n",
       "    </tr>\n",
       "    <tr>\n",
       "      <td>9E</td>\n",
       "      <td>17294</td>\n",
       "    </tr>\n",
       "    <tr>\n",
       "      <td>WN</td>\n",
       "      <td>12044</td>\n",
       "    </tr>\n",
       "    <tr>\n",
       "      <td>VX</td>\n",
       "      <td>5116</td>\n",
       "    </tr>\n",
       "    <tr>\n",
       "      <td>FL</td>\n",
       "      <td>3175</td>\n",
       "    </tr>\n",
       "    <tr>\n",
       "      <td>AS</td>\n",
       "      <td>709</td>\n",
       "    </tr>\n",
       "    <tr>\n",
       "      <td>F9</td>\n",
       "      <td>681</td>\n",
       "    </tr>\n",
       "    <tr>\n",
       "      <td>YV</td>\n",
       "      <td>544</td>\n",
       "    </tr>\n",
       "    <tr>\n",
       "      <td>HA</td>\n",
       "      <td>342</td>\n",
       "    </tr>\n",
       "    <tr>\n",
       "      <td>OO</td>\n",
       "      <td>29</td>\n",
       "    </tr>\n",
       "  </tbody>\n",
       "</table>\n",
       "</div>"
      ],
      "text/plain": [
       "    carrier\n",
       "UA    57782\n",
       "B6    54049\n",
       "EV    51108\n",
       "DL    47658\n",
       "AA    31947\n",
       "MQ    25037\n",
       "US    19831\n",
       "9E    17294\n",
       "WN    12044\n",
       "VX     5116\n",
       "FL     3175\n",
       "AS      709\n",
       "F9      681\n",
       "YV      544\n",
       "HA      342\n",
       "OO       29"
      ]
     },
     "execution_count": 18,
     "metadata": {},
     "output_type": "execute_result"
    }
   ],
   "source": [
    "df['carrier'].value_counts().to_frame()"
   ]
  },
  {
   "cell_type": "code",
   "execution_count": 19,
   "metadata": {
    "colab": {
     "base_uri": "https://localhost:8080/",
     "height": 576
    },
    "executionInfo": {
     "elapsed": 10876,
     "status": "ok",
     "timestamp": 1606508741553,
     "user": {
      "displayName": "Ramesh Ravindran",
      "photoUrl": "https://lh3.googleusercontent.com/a-/AOh14GhcjUie2zDWpQEXGBSui04ZAq0Nl9CR7dlOS1FcBg=s64",
      "userId": "08375370966839671912"
     },
     "user_tz": -330
    },
    "id": "08VNenYtWee2",
    "outputId": "e674058e-e54a-4d83-9237-3b270ecdaa3b"
   },
   "outputs": [
    {
     "data": {
      "text/html": [
       "<div>\n",
       "<style scoped>\n",
       "    .dataframe tbody tr th:only-of-type {\n",
       "        vertical-align: middle;\n",
       "    }\n",
       "\n",
       "    .dataframe tbody tr th {\n",
       "        vertical-align: top;\n",
       "    }\n",
       "\n",
       "    .dataframe thead th {\n",
       "        text-align: right;\n",
       "    }\n",
       "</style>\n",
       "<table border=\"1\" class=\"dataframe\">\n",
       "  <thead>\n",
       "    <tr style=\"text-align: right;\">\n",
       "      <th></th>\n",
       "      <th>min</th>\n",
       "      <th>max</th>\n",
       "      <th>count</th>\n",
       "      <th>mean</th>\n",
       "    </tr>\n",
       "    <tr>\n",
       "      <th>carrier</th>\n",
       "      <th></th>\n",
       "      <th></th>\n",
       "      <th></th>\n",
       "      <th></th>\n",
       "    </tr>\n",
       "  </thead>\n",
       "  <tbody>\n",
       "    <tr>\n",
       "      <td>OO</td>\n",
       "      <td>-14.0</td>\n",
       "      <td>154.0</td>\n",
       "      <td>29.0</td>\n",
       "      <td>12.586207</td>\n",
       "    </tr>\n",
       "    <tr>\n",
       "      <td>HA</td>\n",
       "      <td>-16.0</td>\n",
       "      <td>1301.0</td>\n",
       "      <td>342.0</td>\n",
       "      <td>4.900585</td>\n",
       "    </tr>\n",
       "    <tr>\n",
       "      <td>YV</td>\n",
       "      <td>-16.0</td>\n",
       "      <td>387.0</td>\n",
       "      <td>544.0</td>\n",
       "      <td>18.898897</td>\n",
       "    </tr>\n",
       "    <tr>\n",
       "      <td>F9</td>\n",
       "      <td>-27.0</td>\n",
       "      <td>853.0</td>\n",
       "      <td>681.0</td>\n",
       "      <td>20.201175</td>\n",
       "    </tr>\n",
       "    <tr>\n",
       "      <td>AS</td>\n",
       "      <td>-21.0</td>\n",
       "      <td>225.0</td>\n",
       "      <td>709.0</td>\n",
       "      <td>5.830748</td>\n",
       "    </tr>\n",
       "    <tr>\n",
       "      <td>FL</td>\n",
       "      <td>-22.0</td>\n",
       "      <td>602.0</td>\n",
       "      <td>3175.0</td>\n",
       "      <td>18.605984</td>\n",
       "    </tr>\n",
       "    <tr>\n",
       "      <td>VX</td>\n",
       "      <td>-20.0</td>\n",
       "      <td>653.0</td>\n",
       "      <td>5116.0</td>\n",
       "      <td>12.756646</td>\n",
       "    </tr>\n",
       "    <tr>\n",
       "      <td>WN</td>\n",
       "      <td>-13.0</td>\n",
       "      <td>471.0</td>\n",
       "      <td>12044.0</td>\n",
       "      <td>17.661657</td>\n",
       "    </tr>\n",
       "    <tr>\n",
       "      <td>9E</td>\n",
       "      <td>-24.0</td>\n",
       "      <td>747.0</td>\n",
       "      <td>17294.0</td>\n",
       "      <td>16.439574</td>\n",
       "    </tr>\n",
       "    <tr>\n",
       "      <td>US</td>\n",
       "      <td>-19.0</td>\n",
       "      <td>500.0</td>\n",
       "      <td>19831.0</td>\n",
       "      <td>3.744693</td>\n",
       "    </tr>\n",
       "    <tr>\n",
       "      <td>MQ</td>\n",
       "      <td>-26.0</td>\n",
       "      <td>1137.0</td>\n",
       "      <td>25037.0</td>\n",
       "      <td>10.445381</td>\n",
       "    </tr>\n",
       "    <tr>\n",
       "      <td>AA</td>\n",
       "      <td>-24.0</td>\n",
       "      <td>1014.0</td>\n",
       "      <td>31947.0</td>\n",
       "      <td>8.569130</td>\n",
       "    </tr>\n",
       "    <tr>\n",
       "      <td>DL</td>\n",
       "      <td>-33.0</td>\n",
       "      <td>960.0</td>\n",
       "      <td>47658.0</td>\n",
       "      <td>9.223950</td>\n",
       "    </tr>\n",
       "    <tr>\n",
       "      <td>EV</td>\n",
       "      <td>-32.0</td>\n",
       "      <td>548.0</td>\n",
       "      <td>51108.0</td>\n",
       "      <td>19.838929</td>\n",
       "    </tr>\n",
       "    <tr>\n",
       "      <td>B6</td>\n",
       "      <td>-43.0</td>\n",
       "      <td>502.0</td>\n",
       "      <td>54049.0</td>\n",
       "      <td>12.967548</td>\n",
       "    </tr>\n",
       "    <tr>\n",
       "      <td>UA</td>\n",
       "      <td>-20.0</td>\n",
       "      <td>483.0</td>\n",
       "      <td>57782.0</td>\n",
       "      <td>12.016908</td>\n",
       "    </tr>\n",
       "  </tbody>\n",
       "</table>\n",
       "</div>"
      ],
      "text/plain": [
       "          min     max    count       mean\n",
       "carrier                                  \n",
       "OO      -14.0   154.0     29.0  12.586207\n",
       "HA      -16.0  1301.0    342.0   4.900585\n",
       "YV      -16.0   387.0    544.0  18.898897\n",
       "F9      -27.0   853.0    681.0  20.201175\n",
       "AS      -21.0   225.0    709.0   5.830748\n",
       "FL      -22.0   602.0   3175.0  18.605984\n",
       "VX      -20.0   653.0   5116.0  12.756646\n",
       "WN      -13.0   471.0  12044.0  17.661657\n",
       "9E      -24.0   747.0  17294.0  16.439574\n",
       "US      -19.0   500.0  19831.0   3.744693\n",
       "MQ      -26.0  1137.0  25037.0  10.445381\n",
       "AA      -24.0  1014.0  31947.0   8.569130\n",
       "DL      -33.0   960.0  47658.0   9.223950\n",
       "EV      -32.0   548.0  51108.0  19.838929\n",
       "B6      -43.0   502.0  54049.0  12.967548\n",
       "UA      -20.0   483.0  57782.0  12.016908"
      ]
     },
     "execution_count": 19,
     "metadata": {},
     "output_type": "execute_result"
    }
   ],
   "source": [
    "# function that extract statistical parameters from a grouby objet:\n",
    "def get_stats(group):\n",
    "    return {'min': group.min(), 'max': group.max(),\n",
    "            'count': group.count(), 'mean': group.mean()}\n",
    "#_______________________________________________________________\n",
    "# Creation of a dataframe with statitical infos on each airline:\n",
    "global_stats = df['dep_delay'].groupby(df['carrier']).apply(get_stats).unstack()\n",
    "global_stats = global_stats.sort_values('count')\n",
    "global_stats"
   ]
  },
  {
   "cell_type": "code",
   "execution_count": 20,
   "metadata": {
    "colab": {
     "base_uri": "https://localhost:8080/",
     "height": 633
    },
    "executionInfo": {
     "elapsed": 24191,
     "status": "ok",
     "timestamp": 1606508754887,
     "user": {
      "displayName": "Ramesh Ravindran",
      "photoUrl": "https://lh3.googleusercontent.com/a-/AOh14GhcjUie2zDWpQEXGBSui04ZAq0Nl9CR7dlOS1FcBg=s64",
      "userId": "08375370966839671912"
     },
     "user_tz": -330
    },
    "id": "iIQ58oGxWee2",
    "outputId": "aaa1f9be-c180-454f-8fb7-fdaf869c375c"
   },
   "outputs": [
    {
     "data": {
      "image/png": "[encoded data removed]",
      "text/plain": [
       "<Figure size 1584x1224 with 3 Axes>"
      ]
     },
     "metadata": {
      "needs_background": "light"
     },
     "output_type": "display_data"
    }
   ],
   "source": [
    "#___________________________________________\n",
    "# graphs on flights, airports & delays\n",
    "global_stats1 = global_stats\n",
    "global_stats = global_stats1.head(14)\n",
    "codes = global_stats.index.tolist()\n",
    "carriers1 = carriers[carriers['IATA_CODE'].isin(codes)]\n",
    "abbr_companies = carriers1.set_index('IATA_CODE')['AIRLINE'].to_dict()\n",
    "\n",
    "font = {'family' : 'DejaVu Sans', 'weight' : 'bold', 'size'   : 15}\n",
    "mpl.rc('font', **font)\n",
    "import matplotlib.patches as mpatches\n",
    "#__________________________________________________________________\n",
    "# I extract a subset of columns and redefine the airlines labeling \n",
    "df2 = df.loc[:, ['carrier', 'dep_delay']]\n",
    "df2['carrier'] = df2['carrier'].replace(abbr_companies)\n",
    "#________________________________________________________________________\n",
    "colors = ['royalblue', 'grey', 'wheat', 'c', 'firebrick', 'seagreen', 'lightskyblue',\n",
    "          'lightcoral', 'yellowgreen', 'gold', 'tomato', 'violet', 'aquamarine', 'chartreuse']\n",
    "#___________________________________\n",
    "fig = plt.figure(1, figsize=(22,17))\n",
    "gs=GridSpec(2,2)             \n",
    "ax1=fig.add_subplot(gs[0,0]) \n",
    "ax2=fig.add_subplot(gs[0,1]) \n",
    "ax3=fig.add_subplot(gs[1,:]) \n",
    "#------------------------------\n",
    "# Pie chart nº1: nb of flights\n",
    "#------------------------------\n",
    "labels = [s for s in  global_stats.index]\n",
    "sizes  = global_stats['count'].values\n",
    "explode = [0.3 if sizes[i] < 20000 else 0.0 for i in range(len(abbr_companies))]\n",
    "patches, texts, autotexts = ax1.pie(sizes, explode = explode,\n",
    "                                labels=labels, colors = colors,  autopct='%1.0f%%',\n",
    "                                shadow=False, startangle=0)\n",
    "for i in range(len(abbr_companies)): \n",
    "    texts[i].set_fontsize(14)\n",
    "ax1.axis('equal')\n",
    "ax1.set_title('% of flights per company', bbox={'facecolor':'midnightblue', 'pad':5},\n",
    "              color = 'w',fontsize=18)\n",
    "#_______________________________________________\n",
    "# I set the legend: abreviation -> airline name\n",
    "comp_handler = []\n",
    "for i in range(len(abbr_companies)):\n",
    "    comp_handler.append(mpatches.Patch(color=colors[i],\n",
    "            label = global_stats.index[i] + ': ' + abbr_companies[global_stats.index[i]]))\n",
    "ax1.legend(handles=comp_handler, bbox_to_anchor=(0.2, 0.9), \n",
    "           fontsize = 13, bbox_transform=plt.gcf().transFigure)\n",
    "#----------------------------------------\n",
    "# Pie chart nº2: mean delay at departure\n",
    "#----------------------------------------\n",
    "sizes  = global_stats['mean'].values\n",
    "sizes  = [max(s,0) for s in sizes]\n",
    "explode = [0.0 if sizes[i] < 20000 else 0.01 for i in range(len(abbr_companies))]\n",
    "patches, texts, autotexts = ax2.pie(sizes, explode = explode, labels = labels,\n",
    "                                colors = colors, shadow=False, startangle=0,\n",
    "                                autopct = lambda p :  '{:.0f}'.format(p * sum(sizes) / 100))\n",
    "for i in range(len(abbr_companies)): \n",
    "    texts[i].set_fontsize(14)\n",
    "ax2.axis('equal')\n",
    "ax2.set_title('Mean delay at origin', bbox={'facecolor':'midnightblue', 'pad':5},\n",
    "              color='w', fontsize=18)\n",
    "#------------------------------------------------------\n",
    "# striplot with all the values reported for the delays\n",
    "#___________________________________________________________________\n",
    "# I redefine the colors for correspondance with the pie charts\n",
    "codes = global_stats1.index.tolist()\n",
    "carriers1 = carriers[carriers['IATA_CODE'].isin(codes)]\n",
    "abbr_companies = carriers1.set_index('IATA_CODE')['AIRLINE'].to_dict()\n",
    "\n",
    "colors = ['firebrick', 'gold', 'lightcoral', 'aquamarine', 'c', 'yellowgreen', 'grey',\n",
    "          'seagreen', 'tomato', 'violet', 'wheat', 'chartreuse', 'lightskyblue', 'royalblue', \n",
    "          'black', 'grey', 'white', 'silver', 'black', 'pink']\n",
    "#___________________________________________________________________\n",
    "ax3 = sns.stripplot(y=\"carrier\", x=\"dep_delay\", size = 4, palette = colors,\n",
    "                    data=df2, linewidth = 0.5,  jitter=True)\n",
    "plt.setp(ax3.get_xticklabels(), fontsize=14)\n",
    "plt.setp(ax3.get_yticklabels(), fontsize=14)\n",
    "ax3.set_xticklabels(['{:2.0f}h{:2.0f}m'.format(*[int(y) for y in divmod(x,60)])\n",
    "                         for x in ax3.get_xticks()])\n",
    "plt.xlabel('Departure delay', fontsize=18, bbox={'facecolor':'midnightblue', 'pad':5},\n",
    "           color='w', labelpad=20)\n",
    "ax3.yaxis.label.set_visible(False)\n",
    "#________________________\n",
    "plt.tight_layout(w_pad=3)"
   ]
  },
  {
   "cell_type": "markdown",
   "metadata": {
    "id": "S3zA6KWPWee2"
   },
   "source": [
    "Plot Mean Delay of various Airline(carrier)"
   ]
  },
  {
   "cell_type": "code",
   "execution_count": 21,
   "metadata": {
    "colab": {
     "base_uri": "https://localhost:8080/",
     "height": 476
    },
    "executionInfo": {
     "elapsed": 29472,
     "status": "ok",
     "timestamp": 1606508760188,
     "user": {
      "displayName": "Ramesh Ravindran",
      "photoUrl": "https://lh3.googleusercontent.com/a-/AOh14GhcjUie2zDWpQEXGBSui04ZAq0Nl9CR7dlOS1FcBg=s64",
      "userId": "08375370966839671912"
     },
     "user_tz": -330
    },
    "id": "Wqvz0sH8Wee2",
    "outputId": "b72b55ba-fb44-446f-d36c-1c01e2db1977"
   },
   "outputs": [
    {
     "data": {
      "text/plain": [
       "Text(0.5, 0, 'Mean delay [min] (@departure: blue, @arrival: hatch lines)')"
      ]
     },
     "execution_count": 21,
     "metadata": {},
     "output_type": "execute_result"
    },
    {
     "data": {
      "image/png": "[encoded data removed]",
      "text/plain": [
       "<Figure size 1100x600 with 1 Axes>"
      ]
     },
     "metadata": {},
     "output_type": "display_data"
    }
   ],
   "source": [
    "#plotting mean delays by airlines\n",
    "carrier_code=carriers.set_index('IATA_CODE')['AIRLINE'].to_dict()\n",
    "mpl.rc('patch', edgecolor = 'dimgray', linewidth = 1)\n",
    "mpl.rcParams.update(mpl.rcParamsDefault)\n",
    "mpl.rcParams['hatch.linewidth'] = 2.0\n",
    "\n",
    "fig = plt.figure(1, figsize = (11, 6))\n",
    "ax = sns.barplot(x = 'dep_delay', y = 'carrier', data = df, color = 'lightskyblue', ci = None)\n",
    "ax = sns.barplot(x = 'arr_delay', y = 'carrier', data = df, color = 'r', hatch = '///', alpha = 0.0, ci = None)\n",
    "labels = [carrier_code[item.get_text()] for item in ax.get_yticklabels()]\n",
    "ax.set_yticklabels(labels)\n",
    "ax.yaxis.label.set_visible(False)\n",
    "plt.xlabel(\"Mean delay [min] (@departure: blue, @arrival: hatch lines)\", fontsize = 15, weight = 'bold', labelpad = 10)"
   ]
  },
  {
   "cell_type": "code",
   "execution_count": 22,
   "metadata": {
    "colab": {
     "base_uri": "https://localhost:8080/",
     "height": 530
    },
    "executionInfo": {
     "elapsed": 34675,
     "status": "ok",
     "timestamp": 1606508765407,
     "user": {
      "displayName": "Ramesh Ravindran",
      "photoUrl": "https://lh3.googleusercontent.com/a-/AOh14GhcjUie2zDWpQEXGBSui04ZAq0Nl9CR7dlOS1FcBg=s64",
      "userId": "08375370966839671912"
     },
     "user_tz": -330
    },
    "id": "KoJSnQtEWee2",
    "outputId": "044e1f76-86b5-48d9-9199-4623b6dabb29"
   },
   "outputs": [
    {
     "data": {
      "text/plain": [
       "Text(0.5, 0, \"5 Major Carrier's Mean Delay [min] (@departure: blue, @arrival: hatch lines)\")"
      ]
     },
     "execution_count": 22,
     "metadata": {},
     "output_type": "execute_result"
    },
    {
     "data": {
      "image/png": "[encoded data removed]",
      "text/plain": [
       "<Figure size 1000x600 with 1 Axes>"
      ]
     },
     "metadata": {},
     "output_type": "display_data"
    }
   ],
   "source": [
    "mpl.rc('patch', edgecolor = 'dimgray', linewidth = 1)\n",
    "mpl.rcParams.update(mpl.rcParamsDefault)\n",
    "mpl.rcParams['hatch.linewidth'] = 2.0\n",
    "\n",
    "fig = plt.figure(1, figsize = (10, 6))\n",
    "\n",
    "#Subset 4 major airlines\n",
    "ax = sns.barplot(x = 'dep_delay', y = 'carrier', data = df, order = ['AA', 'DL', 'F9', 'HA', 'B6'], color = 'lightskyblue', ci = None)\n",
    "ax = sns.barplot(x = 'arr_delay', y = 'carrier', data = df, order = ['AA', 'DL', 'F9', 'HA', 'B6'], color = 'r', hatch = '///', alpha = 0.0, ci = None)\n",
    "labels = [carrier_code[item.get_text()] for item in ax.get_yticklabels()]\n",
    "ax.set_yticklabels(labels)\n",
    "ax.yaxis.label.set_visible(False)\n",
    "plt.xlabel(\"5 Major Carrier's Mean Delay [min] (@departure: blue, @arrival: hatch lines)\", fontsize = 12, weight = 'bold', labelpad = 10)"
   ]
  },
  {
   "cell_type": "code",
   "execution_count": 23,
   "metadata": {
    "colab": {
     "base_uri": "https://localhost:8080/",
     "height": 142
    },
    "executionInfo": {
     "elapsed": 34662,
     "status": "ok",
     "timestamp": 1606508765408,
     "user": {
      "displayName": "Ramesh Ravindran",
      "photoUrl": "https://lh3.googleusercontent.com/a-/AOh14GhcjUie2zDWpQEXGBSui04ZAq0Nl9CR7dlOS1FcBg=s64",
      "userId": "08375370966839671912"
     },
     "user_tz": -330
    },
    "id": "uzJVcQCDWee2",
    "outputId": "02dec007-d5f2-460b-b595-680e0e1394b3"
   },
   "outputs": [
    {
     "data": {
      "text/html": [
       "<div>\n",
       "<style scoped>\n",
       "    .dataframe tbody tr th:only-of-type {\n",
       "        vertical-align: middle;\n",
       "    }\n",
       "\n",
       "    .dataframe tbody tr th {\n",
       "        vertical-align: top;\n",
       "    }\n",
       "\n",
       "    .dataframe thead th {\n",
       "        text-align: right;\n",
       "    }\n",
       "</style>\n",
       "<table border=\"1\" class=\"dataframe\">\n",
       "  <thead>\n",
       "    <tr style=\"text-align: right;\">\n",
       "      <th></th>\n",
       "      <th>origin</th>\n",
       "    </tr>\n",
       "  </thead>\n",
       "  <tbody>\n",
       "    <tr>\n",
       "      <td>EWR</td>\n",
       "      <td>117127</td>\n",
       "    </tr>\n",
       "    <tr>\n",
       "      <td>JFK</td>\n",
       "      <td>109079</td>\n",
       "    </tr>\n",
       "    <tr>\n",
       "      <td>LGA</td>\n",
       "      <td>101140</td>\n",
       "    </tr>\n",
       "  </tbody>\n",
       "</table>\n",
       "</div>"
      ],
      "text/plain": [
       "     origin\n",
       "EWR  117127\n",
       "JFK  109079\n",
       "LGA  101140"
      ]
     },
     "execution_count": 23,
     "metadata": {},
     "output_type": "execute_result"
    }
   ],
   "source": [
    "df['origin'].value_counts().to_frame()"
   ]
  },
  {
   "cell_type": "code",
   "execution_count": 24,
   "metadata": {
    "colab": {
     "base_uri": "https://localhost:8080/",
     "height": 509
    },
    "executionInfo": {
     "elapsed": 35987,
     "status": "ok",
     "timestamp": 1606508766750,
     "user": {
      "displayName": "Ramesh Ravindran",
      "photoUrl": "https://lh3.googleusercontent.com/a-/AOh14GhcjUie2zDWpQEXGBSui04ZAq0Nl9CR7dlOS1FcBg=s64",
      "userId": "08375370966839671912"
     },
     "user_tz": -330
    },
    "id": "xLStGXJxWee3",
    "outputId": "0202fa2d-cf3d-48c0-c76c-024df355dcae"
   },
   "outputs": [
    {
     "data": {
      "image/png": "[encoded data removed]",
      "text/plain": [
       "<Figure size 640x480 with 1 Axes>"
      ]
     },
     "metadata": {},
     "output_type": "display_data"
    }
   ],
   "source": [
    "plt.pie(df['origin'].value_counts(),\n",
    "    labels = df['origin'].value_counts().index,\n",
    "    explode = (0.1, 0, 0),\n",
    "    startangle = 90,\n",
    "    autopct = '%1.1f%%',\n",
    "    colors = ['#52D017', '#F62217', '#43C6DB'])\n",
    "\n",
    "plt.tight_layout()\n",
    "plt.title(\"New York City Airport Market share\")\n",
    "plt.show()"
   ]
  },
  {
   "cell_type": "code",
   "execution_count": 25,
   "metadata": {
    "colab": {
     "base_uri": "https://localhost:8080/",
     "height": 511
    },
    "executionInfo": {
     "elapsed": 35973,
     "status": "ok",
     "timestamp": 1606508766751,
     "user": {
      "displayName": "Ramesh Ravindran",
      "photoUrl": "https://lh3.googleusercontent.com/a-/AOh14GhcjUie2zDWpQEXGBSui04ZAq0Nl9CR7dlOS1FcBg=s64",
      "userId": "08375370966839671912"
     },
     "user_tz": -330
    },
    "id": "FX7ZlIcJWee3",
    "outputId": "d9b95217-505d-4648-eba7-78f90482c64a"
   },
   "outputs": [
    {
     "data": {
      "text/plain": [
       "<matplotlib.legend.Legend at 0x1a66e0761c8>"
      ]
     },
     "execution_count": 25,
     "metadata": {},
     "output_type": "execute_result"
    },
    {
     "data": {
      "image/png": "[encoded data removed]",
      "text/plain": [
       "<Figure size 1200x600 with 1 Axes>"
      ]
     },
     "metadata": {},
     "output_type": "display_data"
    }
   ],
   "source": [
    "fig = plt.figure(1, figsize = (12, 6))\n",
    "df[df['origin'] == 'EWR']['month'].value_counts().sort_index().plot(kind = 'line', color = '#52D017')\n",
    "df[df['origin'] == 'JFK']['month'].value_counts().sort_index().plot(kind = 'line', color = '#F62217')\n",
    "df[df['origin'] == 'LGA']['month'].value_counts().sort_index().plot(kind = 'line', color = '#43C6DB')\n",
    "\n",
    "plt.title(\"Flights in US\", size = 15)\n",
    "plt.xticks(range(1, 13), size = 12)\n",
    "plt.yticks(size = 12)\n",
    "plt.xlabel(\"Month\", size = 17)\n",
    "plt.ylabel(\"Frequency\", size = 17)\n",
    "plt.legend(['EWR', 'JFK', 'LGA'])"
   ]
  },
  {
   "cell_type": "markdown",
   "metadata": {
    "id": "erK4DsOnWee3"
   },
   "source": [
    "# Modelling"
   ]
  },
  {
   "cell_type": "code",
   "execution_count": 26,
   "metadata": {
    "colab": {
     "base_uri": "https://localhost:8080/"
    },
    "executionInfo": {
     "elapsed": 36528,
     "status": "ok",
     "timestamp": 1606508767320,
     "user": {
      "displayName": "Ramesh Ravindran",
      "photoUrl": "https://lh3.googleusercontent.com/a-/AOh14GhcjUie2zDWpQEXGBSui04ZAq0Nl9CR7dlOS1FcBg=s64",
      "userId": "08375370966839671912"
     },
     "user_tz": -330
    },
    "id": "LMcf5emJWee3",
    "outputId": "1b9019f8-25f8-4325-8de2-c81ad1b1892a"
   },
   "outputs": [
    {
     "data": {
      "text/plain": [
       "0    0.720406\n",
       "1    0.279594\n",
       "Name: delayed, dtype: float64"
      ]
     },
     "execution_count": 26,
     "metadata": {},
     "output_type": "execute_result"
    }
   ],
   "source": [
    "def map_labels(delays):\n",
    "    if delays > 15:\n",
    "        return 1\n",
    "    else:\n",
    "        return 0\n",
    "\n",
    "df['delayed'] = ((df['dep_delay'].map(map_labels) + df['arr_delay'].map(map_labels)) != 0).astype(int)\n",
    "df['delayed'].value_counts(normalize = True)"
   ]
  },
  {
   "cell_type": "code",
   "execution_count": 27,
   "metadata": {
    "colab": {
     "base_uri": "https://localhost:8080/",
     "height": 309
    },
    "executionInfo": {
     "elapsed": 36517,
     "status": "ok",
     "timestamp": 1606508767321,
     "user": {
      "displayName": "Ramesh Ravindran",
      "photoUrl": "https://lh3.googleusercontent.com/a-/AOh14GhcjUie2zDWpQEXGBSui04ZAq0Nl9CR7dlOS1FcBg=s64",
      "userId": "08375370966839671912"
     },
     "user_tz": -330
    },
    "id": "2PbMB3SgWee3",
    "outputId": "49a67f1d-de61-43be-d398-6754d793f157"
   },
   "outputs": [
    {
     "data": {
      "text/html": [
       "<div>\n",
       "<style scoped>\n",
       "    .dataframe tbody tr th:only-of-type {\n",
       "        vertical-align: middle;\n",
       "    }\n",
       "\n",
       "    .dataframe tbody tr th {\n",
       "        vertical-align: top;\n",
       "    }\n",
       "\n",
       "    .dataframe thead th {\n",
       "        text-align: right;\n",
       "    }\n",
       "</style>\n",
       "<table border=\"1\" class=\"dataframe\">\n",
       "  <thead>\n",
       "    <tr style=\"text-align: right;\">\n",
       "      <th></th>\n",
       "      <th>year</th>\n",
       "      <th>month</th>\n",
       "      <th>day</th>\n",
       "      <th>dep_time</th>\n",
       "      <th>sched_dep_time</th>\n",
       "      <th>dep_delay</th>\n",
       "      <th>arr_time</th>\n",
       "      <th>sched_arr_time</th>\n",
       "      <th>arr_delay</th>\n",
       "      <th>carrier</th>\n",
       "      <th>flight</th>\n",
       "      <th>tailnum</th>\n",
       "      <th>origin</th>\n",
       "      <th>dest</th>\n",
       "      <th>air_time</th>\n",
       "      <th>distance</th>\n",
       "      <th>hour</th>\n",
       "      <th>minute</th>\n",
       "      <th>time_hour</th>\n",
       "      <th>delayed</th>\n",
       "    </tr>\n",
       "  </thead>\n",
       "  <tbody>\n",
       "    <tr>\n",
       "      <td>0</td>\n",
       "      <td>2013</td>\n",
       "      <td>1</td>\n",
       "      <td>1</td>\n",
       "      <td>517</td>\n",
       "      <td>515</td>\n",
       "      <td>2</td>\n",
       "      <td>830</td>\n",
       "      <td>819</td>\n",
       "      <td>11</td>\n",
       "      <td>UA</td>\n",
       "      <td>1545</td>\n",
       "      <td>N14228</td>\n",
       "      <td>EWR</td>\n",
       "      <td>IAH</td>\n",
       "      <td>227.0</td>\n",
       "      <td>1400</td>\n",
       "      <td>5</td>\n",
       "      <td>15</td>\n",
       "      <td>1/1/2013 5:00</td>\n",
       "      <td>0</td>\n",
       "    </tr>\n",
       "    <tr>\n",
       "      <td>1</td>\n",
       "      <td>2013</td>\n",
       "      <td>1</td>\n",
       "      <td>1</td>\n",
       "      <td>533</td>\n",
       "      <td>529</td>\n",
       "      <td>4</td>\n",
       "      <td>850</td>\n",
       "      <td>830</td>\n",
       "      <td>20</td>\n",
       "      <td>UA</td>\n",
       "      <td>1714</td>\n",
       "      <td>N24211</td>\n",
       "      <td>LGA</td>\n",
       "      <td>IAH</td>\n",
       "      <td>227.0</td>\n",
       "      <td>1416</td>\n",
       "      <td>5</td>\n",
       "      <td>29</td>\n",
       "      <td>1/1/2013 5:00</td>\n",
       "      <td>1</td>\n",
       "    </tr>\n",
       "    <tr>\n",
       "      <td>2</td>\n",
       "      <td>2013</td>\n",
       "      <td>1</td>\n",
       "      <td>1</td>\n",
       "      <td>542</td>\n",
       "      <td>540</td>\n",
       "      <td>2</td>\n",
       "      <td>923</td>\n",
       "      <td>850</td>\n",
       "      <td>33</td>\n",
       "      <td>AA</td>\n",
       "      <td>1141</td>\n",
       "      <td>N619AA</td>\n",
       "      <td>JFK</td>\n",
       "      <td>MIA</td>\n",
       "      <td>160.0</td>\n",
       "      <td>1089</td>\n",
       "      <td>5</td>\n",
       "      <td>40</td>\n",
       "      <td>1/1/2013 5:00</td>\n",
       "      <td>1</td>\n",
       "    </tr>\n",
       "    <tr>\n",
       "      <td>3</td>\n",
       "      <td>2013</td>\n",
       "      <td>1</td>\n",
       "      <td>1</td>\n",
       "      <td>544</td>\n",
       "      <td>545</td>\n",
       "      <td>-1</td>\n",
       "      <td>1004</td>\n",
       "      <td>1022</td>\n",
       "      <td>-18</td>\n",
       "      <td>B6</td>\n",
       "      <td>725</td>\n",
       "      <td>N804JB</td>\n",
       "      <td>JFK</td>\n",
       "      <td>BQN</td>\n",
       "      <td>183.0</td>\n",
       "      <td>1576</td>\n",
       "      <td>5</td>\n",
       "      <td>45</td>\n",
       "      <td>1/1/2013 5:00</td>\n",
       "      <td>0</td>\n",
       "    </tr>\n",
       "    <tr>\n",
       "      <td>4</td>\n",
       "      <td>2013</td>\n",
       "      <td>1</td>\n",
       "      <td>1</td>\n",
       "      <td>554</td>\n",
       "      <td>600</td>\n",
       "      <td>-6</td>\n",
       "      <td>812</td>\n",
       "      <td>837</td>\n",
       "      <td>-25</td>\n",
       "      <td>DL</td>\n",
       "      <td>461</td>\n",
       "      <td>N668DN</td>\n",
       "      <td>LGA</td>\n",
       "      <td>ATL</td>\n",
       "      <td>116.0</td>\n",
       "      <td>762</td>\n",
       "      <td>6</td>\n",
       "      <td>0</td>\n",
       "      <td>1/1/2013 6:00</td>\n",
       "      <td>0</td>\n",
       "    </tr>\n",
       "  </tbody>\n",
       "</table>\n",
       "</div>"
      ],
      "text/plain": [
       "   year  month  day  dep_time  sched_dep_time  dep_delay  arr_time  \\\n",
       "0  2013      1    1       517             515          2       830   \n",
       "1  2013      1    1       533             529          4       850   \n",
       "2  2013      1    1       542             540          2       923   \n",
       "3  2013      1    1       544             545         -1      1004   \n",
       "4  2013      1    1       554             600         -6       812   \n",
       "\n",
       "   sched_arr_time  arr_delay carrier  flight tailnum origin dest  air_time  \\\n",
       "0             819         11      UA    1545  N14228    EWR  IAH     227.0   \n",
       "1             830         20      UA    1714  N24211    LGA  IAH     227.0   \n",
       "2             850         33      AA    1141  N619AA    JFK  MIA     160.0   \n",
       "3            1022        -18      B6     725  N804JB    JFK  BQN     183.0   \n",
       "4             837        -25      DL     461  N668DN    LGA  ATL     116.0   \n",
       "\n",
       "   distance  hour  minute      time_hour  delayed  \n",
       "0      1400     5      15  1/1/2013 5:00        0  \n",
       "1      1416     5      29  1/1/2013 5:00        1  \n",
       "2      1089     5      40  1/1/2013 5:00        1  \n",
       "3      1576     5      45  1/1/2013 5:00        0  \n",
       "4       762     6       0  1/1/2013 6:00        0  "
      ]
     },
     "execution_count": 27,
     "metadata": {},
     "output_type": "execute_result"
    }
   ],
   "source": [
    "df.head()"
   ]
  },
  {
   "cell_type": "code",
   "execution_count": 28,
   "metadata": {
    "executionInfo": {
     "elapsed": 36507,
     "status": "ok",
     "timestamp": 1606508767323,
     "user": {
      "displayName": "Ramesh Ravindran",
      "photoUrl": "https://lh3.googleusercontent.com/a-/AOh14GhcjUie2zDWpQEXGBSui04ZAq0Nl9CR7dlOS1FcBg=s64",
      "userId": "08375370966839671912"
     },
     "user_tz": -330
    },
    "id": "xCL7vQwQWee3"
   },
   "outputs": [],
   "source": [
    "# feature omission\n",
    "columns_to_remove = ['dep_time', 'sched_dep_time', 'dep_delay', 'arr_time', 'sched_arr_time', 'arr_delay', 'flight', 'tailnum', 'air_time', 'distance', 'hour', 'minute', 'time_hour']\n",
    "df.drop(columns_to_remove, axis = 1, inplace = True)"
   ]
  },
  {
   "cell_type": "code",
   "execution_count": 29,
   "metadata": {
    "colab": {
     "base_uri": "https://localhost:8080/",
     "height": 111
    },
    "executionInfo": {
     "elapsed": 36499,
     "status": "ok",
     "timestamp": 1606508767324,
     "user": {
      "displayName": "Ramesh Ravindran",
      "photoUrl": "https://lh3.googleusercontent.com/a-/AOh14GhcjUie2zDWpQEXGBSui04ZAq0Nl9CR7dlOS1FcBg=s64",
      "userId": "08375370966839671912"
     },
     "user_tz": -330
    },
    "id": "rNFo6G3CWee3",
    "outputId": "9d0e7b6b-e0df-47ba-c954-aa010ae128d4"
   },
   "outputs": [
    {
     "data": {
      "text/html": [
       "<div>\n",
       "<style scoped>\n",
       "    .dataframe tbody tr th:only-of-type {\n",
       "        vertical-align: middle;\n",
       "    }\n",
       "\n",
       "    .dataframe tbody tr th {\n",
       "        vertical-align: top;\n",
       "    }\n",
       "\n",
       "    .dataframe thead th {\n",
       "        text-align: right;\n",
       "    }\n",
       "</style>\n",
       "<table border=\"1\" class=\"dataframe\">\n",
       "  <thead>\n",
       "    <tr style=\"text-align: right;\">\n",
       "      <th></th>\n",
       "      <th>delayed</th>\n",
       "    </tr>\n",
       "  </thead>\n",
       "  <tbody>\n",
       "    <tr>\n",
       "      <td>0</td>\n",
       "      <td>235822</td>\n",
       "    </tr>\n",
       "    <tr>\n",
       "      <td>1</td>\n",
       "      <td>91524</td>\n",
       "    </tr>\n",
       "  </tbody>\n",
       "</table>\n",
       "</div>"
      ],
      "text/plain": [
       "   delayed\n",
       "0   235822\n",
       "1    91524"
      ]
     },
     "execution_count": 29,
     "metadata": {},
     "output_type": "execute_result"
    }
   ],
   "source": [
    "df['delayed'].value_counts().to_frame()"
   ]
  },
  {
   "cell_type": "code",
   "execution_count": 30,
   "metadata": {
    "colab": {
     "base_uri": "https://localhost:8080/",
     "height": 1000
    },
    "executionInfo": {
     "elapsed": 36485,
     "status": "ok",
     "timestamp": 1606508767326,
     "user": {
      "displayName": "Ramesh Ravindran",
      "photoUrl": "https://lh3.googleusercontent.com/a-/AOh14GhcjUie2zDWpQEXGBSui04ZAq0Nl9CR7dlOS1FcBg=s64",
      "userId": "08375370966839671912"
     },
     "user_tz": -330
    },
    "id": "uUBWpasjWee3",
    "outputId": "f15d3de8-940f-4a1c-b767-0391c9c8fc35"
   },
   "outputs": [
    {
     "data": {
      "text/html": [
       "<div>\n",
       "<style scoped>\n",
       "    .dataframe tbody tr th:only-of-type {\n",
       "        vertical-align: middle;\n",
       "    }\n",
       "\n",
       "    .dataframe tbody tr th {\n",
       "        vertical-align: top;\n",
       "    }\n",
       "\n",
       "    .dataframe thead th {\n",
       "        text-align: right;\n",
       "    }\n",
       "</style>\n",
       "<table border=\"1\" class=\"dataframe\">\n",
       "  <thead>\n",
       "    <tr style=\"text-align: right;\">\n",
       "      <th></th>\n",
       "      <th>dest</th>\n",
       "    </tr>\n",
       "  </thead>\n",
       "  <tbody>\n",
       "    <tr>\n",
       "      <td>ATL</td>\n",
       "      <td>16837</td>\n",
       "    </tr>\n",
       "    <tr>\n",
       "      <td>ORD</td>\n",
       "      <td>16566</td>\n",
       "    </tr>\n",
       "    <tr>\n",
       "      <td>LAX</td>\n",
       "      <td>16026</td>\n",
       "    </tr>\n",
       "    <tr>\n",
       "      <td>BOS</td>\n",
       "      <td>15022</td>\n",
       "    </tr>\n",
       "    <tr>\n",
       "      <td>MCO</td>\n",
       "      <td>13967</td>\n",
       "    </tr>\n",
       "    <tr>\n",
       "      <td>CLT</td>\n",
       "      <td>13674</td>\n",
       "    </tr>\n",
       "    <tr>\n",
       "      <td>SFO</td>\n",
       "      <td>13173</td>\n",
       "    </tr>\n",
       "    <tr>\n",
       "      <td>FLL</td>\n",
       "      <td>11897</td>\n",
       "    </tr>\n",
       "    <tr>\n",
       "      <td>MIA</td>\n",
       "      <td>11593</td>\n",
       "    </tr>\n",
       "    <tr>\n",
       "      <td>DCA</td>\n",
       "      <td>9111</td>\n",
       "    </tr>\n",
       "    <tr>\n",
       "      <td>DTW</td>\n",
       "      <td>9031</td>\n",
       "    </tr>\n",
       "    <tr>\n",
       "      <td>DFW</td>\n",
       "      <td>8388</td>\n",
       "    </tr>\n",
       "    <tr>\n",
       "      <td>RDU</td>\n",
       "      <td>7770</td>\n",
       "    </tr>\n",
       "    <tr>\n",
       "      <td>TPA</td>\n",
       "      <td>7390</td>\n",
       "    </tr>\n",
       "    <tr>\n",
       "      <td>DEN</td>\n",
       "      <td>7169</td>\n",
       "    </tr>\n",
       "    <tr>\n",
       "      <td>IAH</td>\n",
       "      <td>7085</td>\n",
       "    </tr>\n",
       "    <tr>\n",
       "      <td>MSP</td>\n",
       "      <td>6929</td>\n",
       "    </tr>\n",
       "    <tr>\n",
       "      <td>PBI</td>\n",
       "      <td>6487</td>\n",
       "    </tr>\n",
       "    <tr>\n",
       "      <td>BNA</td>\n",
       "      <td>6084</td>\n",
       "    </tr>\n",
       "    <tr>\n",
       "      <td>LAS</td>\n",
       "      <td>5952</td>\n",
       "    </tr>\n",
       "    <tr>\n",
       "      <td>SJU</td>\n",
       "      <td>5773</td>\n",
       "    </tr>\n",
       "    <tr>\n",
       "      <td>IAD</td>\n",
       "      <td>5383</td>\n",
       "    </tr>\n",
       "    <tr>\n",
       "      <td>PHX</td>\n",
       "      <td>4606</td>\n",
       "    </tr>\n",
       "    <tr>\n",
       "      <td>BUF</td>\n",
       "      <td>4570</td>\n",
       "    </tr>\n",
       "    <tr>\n",
       "      <td>CLE</td>\n",
       "      <td>4394</td>\n",
       "    </tr>\n",
       "    <tr>\n",
       "      <td>STL</td>\n",
       "      <td>4142</td>\n",
       "    </tr>\n",
       "    <tr>\n",
       "      <td>MDW</td>\n",
       "      <td>4025</td>\n",
       "    </tr>\n",
       "    <tr>\n",
       "      <td>SEA</td>\n",
       "      <td>3885</td>\n",
       "    </tr>\n",
       "    <tr>\n",
       "      <td>CVG</td>\n",
       "      <td>3725</td>\n",
       "    </tr>\n",
       "    <tr>\n",
       "      <td>MSY</td>\n",
       "      <td>3715</td>\n",
       "    </tr>\n",
       "    <tr>\n",
       "      <td>RSW</td>\n",
       "      <td>3502</td>\n",
       "    </tr>\n",
       "    <tr>\n",
       "      <td>CMH</td>\n",
       "      <td>3326</td>\n",
       "    </tr>\n",
       "    <tr>\n",
       "      <td>CHS</td>\n",
       "      <td>2759</td>\n",
       "    </tr>\n",
       "    <tr>\n",
       "      <td>PIT</td>\n",
       "      <td>2746</td>\n",
       "    </tr>\n",
       "    <tr>\n",
       "      <td>MKE</td>\n",
       "      <td>2709</td>\n",
       "    </tr>\n",
       "    <tr>\n",
       "      <td>SAN</td>\n",
       "      <td>2709</td>\n",
       "    </tr>\n",
       "    <tr>\n",
       "      <td>JAX</td>\n",
       "      <td>2623</td>\n",
       "    </tr>\n",
       "    <tr>\n",
       "      <td>BTV</td>\n",
       "      <td>2510</td>\n",
       "    </tr>\n",
       "    <tr>\n",
       "      <td>SLC</td>\n",
       "      <td>2451</td>\n",
       "    </tr>\n",
       "    <tr>\n",
       "      <td>AUS</td>\n",
       "      <td>2411</td>\n",
       "    </tr>\n",
       "    <tr>\n",
       "      <td>ROC</td>\n",
       "      <td>2358</td>\n",
       "    </tr>\n",
       "    <tr>\n",
       "      <td>RIC</td>\n",
       "      <td>2346</td>\n",
       "    </tr>\n",
       "    <tr>\n",
       "      <td>PWM</td>\n",
       "      <td>2288</td>\n",
       "    </tr>\n",
       "    <tr>\n",
       "      <td>HOU</td>\n",
       "      <td>2083</td>\n",
       "    </tr>\n",
       "    <tr>\n",
       "      <td>IND</td>\n",
       "      <td>1981</td>\n",
       "    </tr>\n",
       "    <tr>\n",
       "      <td>MCI</td>\n",
       "      <td>1885</td>\n",
       "    </tr>\n",
       "    <tr>\n",
       "      <td>SYR</td>\n",
       "      <td>1707</td>\n",
       "    </tr>\n",
       "    <tr>\n",
       "      <td>BWI</td>\n",
       "      <td>1687</td>\n",
       "    </tr>\n",
       "    <tr>\n",
       "      <td>MEM</td>\n",
       "      <td>1686</td>\n",
       "    </tr>\n",
       "    <tr>\n",
       "      <td>PHL</td>\n",
       "      <td>1541</td>\n",
       "    </tr>\n",
       "    <tr>\n",
       "      <td>GSO</td>\n",
       "      <td>1492</td>\n",
       "    </tr>\n",
       "    <tr>\n",
       "      <td>ORF</td>\n",
       "      <td>1434</td>\n",
       "    </tr>\n",
       "    <tr>\n",
       "      <td>DAY</td>\n",
       "      <td>1399</td>\n",
       "    </tr>\n",
       "    <tr>\n",
       "      <td>PDX</td>\n",
       "      <td>1342</td>\n",
       "    </tr>\n",
       "    <tr>\n",
       "      <td>SRQ</td>\n",
       "      <td>1201</td>\n",
       "    </tr>\n",
       "    <tr>\n",
       "      <td>SDF</td>\n",
       "      <td>1104</td>\n",
       "    </tr>\n",
       "    <tr>\n",
       "      <td>XNA</td>\n",
       "      <td>992</td>\n",
       "    </tr>\n",
       "    <tr>\n",
       "      <td>MHT</td>\n",
       "      <td>932</td>\n",
       "    </tr>\n",
       "    <tr>\n",
       "      <td>BQN</td>\n",
       "      <td>888</td>\n",
       "    </tr>\n",
       "    <tr>\n",
       "      <td>CAK</td>\n",
       "      <td>842</td>\n",
       "    </tr>\n",
       "    <tr>\n",
       "      <td>OMA</td>\n",
       "      <td>817</td>\n",
       "    </tr>\n",
       "    <tr>\n",
       "      <td>SNA</td>\n",
       "      <td>812</td>\n",
       "    </tr>\n",
       "    <tr>\n",
       "      <td>GSP</td>\n",
       "      <td>790</td>\n",
       "    </tr>\n",
       "    <tr>\n",
       "      <td>SAV</td>\n",
       "      <td>749</td>\n",
       "    </tr>\n",
       "    <tr>\n",
       "      <td>GRR</td>\n",
       "      <td>728</td>\n",
       "    </tr>\n",
       "    <tr>\n",
       "      <td>HNL</td>\n",
       "      <td>701</td>\n",
       "    </tr>\n",
       "    <tr>\n",
       "      <td>LGB</td>\n",
       "      <td>661</td>\n",
       "    </tr>\n",
       "    <tr>\n",
       "      <td>SAT</td>\n",
       "      <td>659</td>\n",
       "    </tr>\n",
       "    <tr>\n",
       "      <td>TYS</td>\n",
       "      <td>578</td>\n",
       "    </tr>\n",
       "    <tr>\n",
       "      <td>MSN</td>\n",
       "      <td>556</td>\n",
       "    </tr>\n",
       "    <tr>\n",
       "      <td>DSM</td>\n",
       "      <td>523</td>\n",
       "    </tr>\n",
       "    <tr>\n",
       "      <td>STT</td>\n",
       "      <td>518</td>\n",
       "    </tr>\n",
       "    <tr>\n",
       "      <td>ALB</td>\n",
       "      <td>418</td>\n",
       "    </tr>\n",
       "    <tr>\n",
       "      <td>BDL</td>\n",
       "      <td>412</td>\n",
       "    </tr>\n",
       "    <tr>\n",
       "      <td>BUR</td>\n",
       "      <td>370</td>\n",
       "    </tr>\n",
       "    <tr>\n",
       "      <td>BGR</td>\n",
       "      <td>358</td>\n",
       "    </tr>\n",
       "    <tr>\n",
       "      <td>PSE</td>\n",
       "      <td>358</td>\n",
       "    </tr>\n",
       "    <tr>\n",
       "      <td>PVD</td>\n",
       "      <td>358</td>\n",
       "    </tr>\n",
       "    <tr>\n",
       "      <td>SJC</td>\n",
       "      <td>328</td>\n",
       "    </tr>\n",
       "    <tr>\n",
       "      <td>OKC</td>\n",
       "      <td>315</td>\n",
       "    </tr>\n",
       "    <tr>\n",
       "      <td>OAK</td>\n",
       "      <td>309</td>\n",
       "    </tr>\n",
       "    <tr>\n",
       "      <td>TUL</td>\n",
       "      <td>294</td>\n",
       "    </tr>\n",
       "    <tr>\n",
       "      <td>SMF</td>\n",
       "      <td>282</td>\n",
       "    </tr>\n",
       "    <tr>\n",
       "      <td>BHM</td>\n",
       "      <td>269</td>\n",
       "    </tr>\n",
       "    <tr>\n",
       "      <td>ACK</td>\n",
       "      <td>264</td>\n",
       "    </tr>\n",
       "    <tr>\n",
       "      <td>AVL</td>\n",
       "      <td>261</td>\n",
       "    </tr>\n",
       "    <tr>\n",
       "      <td>ABQ</td>\n",
       "      <td>254</td>\n",
       "    </tr>\n",
       "    <tr>\n",
       "      <td>MVY</td>\n",
       "      <td>210</td>\n",
       "    </tr>\n",
       "    <tr>\n",
       "      <td>EGE</td>\n",
       "      <td>207</td>\n",
       "    </tr>\n",
       "    <tr>\n",
       "      <td>CRW</td>\n",
       "      <td>134</td>\n",
       "    </tr>\n",
       "    <tr>\n",
       "      <td>ILM</td>\n",
       "      <td>107</td>\n",
       "    </tr>\n",
       "    <tr>\n",
       "      <td>CAE</td>\n",
       "      <td>106</td>\n",
       "    </tr>\n",
       "    <tr>\n",
       "      <td>TVC</td>\n",
       "      <td>95</td>\n",
       "    </tr>\n",
       "    <tr>\n",
       "      <td>MYR</td>\n",
       "      <td>58</td>\n",
       "    </tr>\n",
       "    <tr>\n",
       "      <td>CHO</td>\n",
       "      <td>46</td>\n",
       "    </tr>\n",
       "    <tr>\n",
       "      <td>BZN</td>\n",
       "      <td>35</td>\n",
       "    </tr>\n",
       "    <tr>\n",
       "      <td>JAC</td>\n",
       "      <td>21</td>\n",
       "    </tr>\n",
       "    <tr>\n",
       "      <td>PSP</td>\n",
       "      <td>18</td>\n",
       "    </tr>\n",
       "    <tr>\n",
       "      <td>EYW</td>\n",
       "      <td>17</td>\n",
       "    </tr>\n",
       "    <tr>\n",
       "      <td>MTJ</td>\n",
       "      <td>14</td>\n",
       "    </tr>\n",
       "    <tr>\n",
       "      <td>HDN</td>\n",
       "      <td>14</td>\n",
       "    </tr>\n",
       "    <tr>\n",
       "      <td>SBN</td>\n",
       "      <td>10</td>\n",
       "    </tr>\n",
       "    <tr>\n",
       "      <td>ANC</td>\n",
       "      <td>8</td>\n",
       "    </tr>\n",
       "    <tr>\n",
       "      <td>LEX</td>\n",
       "      <td>1</td>\n",
       "    </tr>\n",
       "  </tbody>\n",
       "</table>\n",
       "</div>"
      ],
      "text/plain": [
       "      dest\n",
       "ATL  16837\n",
       "ORD  16566\n",
       "LAX  16026\n",
       "BOS  15022\n",
       "MCO  13967\n",
       "CLT  13674\n",
       "SFO  13173\n",
       "FLL  11897\n",
       "MIA  11593\n",
       "DCA   9111\n",
       "DTW   9031\n",
       "DFW   8388\n",
       "RDU   7770\n",
       "TPA   7390\n",
       "DEN   7169\n",
       "IAH   7085\n",
       "MSP   6929\n",
       "PBI   6487\n",
       "BNA   6084\n",
       "LAS   5952\n",
       "SJU   5773\n",
       "IAD   5383\n",
       "PHX   4606\n",
       "BUF   4570\n",
       "CLE   4394\n",
       "STL   4142\n",
       "MDW   4025\n",
       "SEA   3885\n",
       "CVG   3725\n",
       "MSY   3715\n",
       "RSW   3502\n",
       "CMH   3326\n",
       "CHS   2759\n",
       "PIT   2746\n",
       "MKE   2709\n",
       "SAN   2709\n",
       "JAX   2623\n",
       "BTV   2510\n",
       "SLC   2451\n",
       "AUS   2411\n",
       "ROC   2358\n",
       "RIC   2346\n",
       "PWM   2288\n",
       "HOU   2083\n",
       "IND   1981\n",
       "MCI   1885\n",
       "SYR   1707\n",
       "BWI   1687\n",
       "MEM   1686\n",
       "PHL   1541\n",
       "GSO   1492\n",
       "ORF   1434\n",
       "DAY   1399\n",
       "PDX   1342\n",
       "SRQ   1201\n",
       "SDF   1104\n",
       "XNA    992\n",
       "MHT    932\n",
       "BQN    888\n",
       "CAK    842\n",
       "OMA    817\n",
       "SNA    812\n",
       "GSP    790\n",
       "SAV    749\n",
       "GRR    728\n",
       "HNL    701\n",
       "LGB    661\n",
       "SAT    659\n",
       "TYS    578\n",
       "MSN    556\n",
       "DSM    523\n",
       "STT    518\n",
       "ALB    418\n",
       "BDL    412\n",
       "BUR    370\n",
       "BGR    358\n",
       "PSE    358\n",
       "PVD    358\n",
       "SJC    328\n",
       "OKC    315\n",
       "OAK    309\n",
       "TUL    294\n",
       "SMF    282\n",
       "BHM    269\n",
       "ACK    264\n",
       "AVL    261\n",
       "ABQ    254\n",
       "MVY    210\n",
       "EGE    207\n",
       "CRW    134\n",
       "ILM    107\n",
       "CAE    106\n",
       "TVC     95\n",
       "MYR     58\n",
       "CHO     46\n",
       "BZN     35\n",
       "JAC     21\n",
       "PSP     18\n",
       "EYW     17\n",
       "MTJ     14\n",
       "HDN     14\n",
       "SBN     10\n",
       "ANC      8\n",
       "LEX      1"
      ]
     },
     "execution_count": 30,
     "metadata": {},
     "output_type": "execute_result"
    }
   ],
   "source": [
    "df['dest'].value_counts().to_frame()"
   ]
  },
  {
   "cell_type": "code",
   "execution_count": 31,
   "metadata": {
    "executionInfo": {
     "elapsed": 36475,
     "status": "ok",
     "timestamp": 1606508767327,
     "user": {
      "displayName": "Ramesh Ravindran",
      "photoUrl": "https://lh3.googleusercontent.com/a-/AOh14GhcjUie2zDWpQEXGBSui04ZAq0Nl9CR7dlOS1FcBg=s64",
      "userId": "08375370966839671912"
     },
     "user_tz": -330
    },
    "id": "vyx0367-Wee4"
   },
   "outputs": [],
   "source": [
    "saving_data = df.to_csv(\"Data/Processed_data.csv\", index = False)"
   ]
  },
  {
   "cell_type": "markdown",
   "metadata": {
    "id": "l_O7bA4MWee4"
   },
   "source": [
    "# Deployment of Machine Learning Classifier "
   ]
  },
  {
   "cell_type": "code",
   "execution_count": 32,
   "metadata": {
    "executionInfo": {
     "elapsed": 36469,
     "status": "ok",
     "timestamp": 1606508767328,
     "user": {
      "displayName": "Ramesh Ravindran",
      "photoUrl": "https://lh3.googleusercontent.com/a-/AOh14GhcjUie2zDWpQEXGBSui04ZAq0Nl9CR7dlOS1FcBg=s64",
      "userId": "08375370966839671912"
     },
     "user_tz": -330
    },
    "id": "w66SAIloWee4"
   },
   "outputs": [],
   "source": [
    "### Imports\n",
    "import seaborn as sns\n",
    "from sklearn.model_selection import cross_val_score\n",
    "from sklearn.metrics import classification_report\n",
    "from sklearn.metrics import confusion_matrix\n",
    "from sklearn.metrics import accuracy_score\n",
    "\n",
    "from sklearn.model_selection import train_test_split"
   ]
  },
  {
   "cell_type": "code",
   "execution_count": 33,
   "metadata": {
    "executionInfo": {
     "elapsed": 36463,
     "status": "ok",
     "timestamp": 1606508767330,
     "user": {
      "displayName": "Ramesh Ravindran",
      "photoUrl": "https://lh3.googleusercontent.com/a-/AOh14GhcjUie2zDWpQEXGBSui04ZAq0Nl9CR7dlOS1FcBg=s64",
      "userId": "08375370966839671912"
     },
     "user_tz": -330
    },
    "id": "6VT_WBAKWee4"
   },
   "outputs": [],
   "source": [
    "from sklearn.preprocessing import LabelEncoder\n",
    "from sklearn.metrics import jaccard_score\n",
    "from sklearn import metrics\n",
    "from sklearn import preprocessing\n",
    "import matplotlib.pyplot as plt\n"
   ]
  },
  {
   "cell_type": "code",
   "execution_count": 34,
   "metadata": {
    "executionInfo": {
     "elapsed": 36456,
     "status": "ok",
     "timestamp": 1606508767331,
     "user": {
      "displayName": "Ramesh Ravindran",
      "photoUrl": "https://lh3.googleusercontent.com/a-/AOh14GhcjUie2zDWpQEXGBSui04ZAq0Nl9CR7dlOS1FcBg=s64",
      "userId": "08375370966839671912"
     },
     "user_tz": -330
    },
    "id": "RNi22Ls6Wee4"
   },
   "outputs": [],
   "source": [
    "# Import dataset \n",
    "data = pd.read_csv('Data/Processed_data.csv')"
   ]
  },
  {
   "cell_type": "code",
   "execution_count": 35,
   "metadata": {
    "colab": {
     "base_uri": "https://localhost:8080/",
     "height": 204
    },
    "executionInfo": {
     "elapsed": 36446,
     "status": "ok",
     "timestamp": 1606508767332,
     "user": {
      "displayName": "Ramesh Ravindran",
      "photoUrl": "https://lh3.googleusercontent.com/a-/AOh14GhcjUie2zDWpQEXGBSui04ZAq0Nl9CR7dlOS1FcBg=s64",
      "userId": "08375370966839671912"
     },
     "user_tz": -330
    },
    "id": "a9LL6Y5mWee4",
    "outputId": "f1df9d73-9c1e-4141-bde9-4897d52ca85c"
   },
   "outputs": [
    {
     "data": {
      "text/html": [
       "<div>\n",
       "<style scoped>\n",
       "    .dataframe tbody tr th:only-of-type {\n",
       "        vertical-align: middle;\n",
       "    }\n",
       "\n",
       "    .dataframe tbody tr th {\n",
       "        vertical-align: top;\n",
       "    }\n",
       "\n",
       "    .dataframe thead th {\n",
       "        text-align: right;\n",
       "    }\n",
       "</style>\n",
       "<table border=\"1\" class=\"dataframe\">\n",
       "  <thead>\n",
       "    <tr style=\"text-align: right;\">\n",
       "      <th></th>\n",
       "      <th>year</th>\n",
       "      <th>month</th>\n",
       "      <th>day</th>\n",
       "      <th>carrier</th>\n",
       "      <th>origin</th>\n",
       "      <th>dest</th>\n",
       "      <th>delayed</th>\n",
       "    </tr>\n",
       "  </thead>\n",
       "  <tbody>\n",
       "    <tr>\n",
       "      <td>0</td>\n",
       "      <td>2013</td>\n",
       "      <td>1</td>\n",
       "      <td>1</td>\n",
       "      <td>UA</td>\n",
       "      <td>EWR</td>\n",
       "      <td>IAH</td>\n",
       "      <td>0</td>\n",
       "    </tr>\n",
       "    <tr>\n",
       "      <td>1</td>\n",
       "      <td>2013</td>\n",
       "      <td>1</td>\n",
       "      <td>1</td>\n",
       "      <td>UA</td>\n",
       "      <td>LGA</td>\n",
       "      <td>IAH</td>\n",
       "      <td>1</td>\n",
       "    </tr>\n",
       "    <tr>\n",
       "      <td>2</td>\n",
       "      <td>2013</td>\n",
       "      <td>1</td>\n",
       "      <td>1</td>\n",
       "      <td>AA</td>\n",
       "      <td>JFK</td>\n",
       "      <td>MIA</td>\n",
       "      <td>1</td>\n",
       "    </tr>\n",
       "    <tr>\n",
       "      <td>3</td>\n",
       "      <td>2013</td>\n",
       "      <td>1</td>\n",
       "      <td>1</td>\n",
       "      <td>B6</td>\n",
       "      <td>JFK</td>\n",
       "      <td>BQN</td>\n",
       "      <td>0</td>\n",
       "    </tr>\n",
       "    <tr>\n",
       "      <td>4</td>\n",
       "      <td>2013</td>\n",
       "      <td>1</td>\n",
       "      <td>1</td>\n",
       "      <td>DL</td>\n",
       "      <td>LGA</td>\n",
       "      <td>ATL</td>\n",
       "      <td>0</td>\n",
       "    </tr>\n",
       "  </tbody>\n",
       "</table>\n",
       "</div>"
      ],
      "text/plain": [
       "   year  month  day carrier origin dest  delayed\n",
       "0  2013      1    1      UA    EWR  IAH        0\n",
       "1  2013      1    1      UA    LGA  IAH        1\n",
       "2  2013      1    1      AA    JFK  MIA        1\n",
       "3  2013      1    1      B6    JFK  BQN        0\n",
       "4  2013      1    1      DL    LGA  ATL        0"
      ]
     },
     "execution_count": 35,
     "metadata": {},
     "output_type": "execute_result"
    }
   ],
   "source": [
    "data.head()"
   ]
  },
  {
   "cell_type": "code",
   "execution_count": 36,
   "metadata": {
    "executionInfo": {
     "elapsed": 36437,
     "status": "ok",
     "timestamp": 1606508767334,
     "user": {
      "displayName": "Ramesh Ravindran",
      "photoUrl": "https://lh3.googleusercontent.com/a-/AOh14GhcjUie2zDWpQEXGBSui04ZAq0Nl9CR7dlOS1FcBg=s64",
      "userId": "08375370966839671912"
     },
     "user_tz": -330
    },
    "id": "O_UzvvtDWee4"
   },
   "outputs": [],
   "source": [
    "columns= ['carrier','dest', 'origin']\n",
    "le=LabelEncoder()\n",
    "for i in columns:\n",
    "     data[i]=le.fit_transform(data[i])"
   ]
  },
  {
   "cell_type": "code",
   "execution_count": 37,
   "metadata": {
    "colab": {
     "base_uri": "https://localhost:8080/"
    },
    "executionInfo": {
     "elapsed": 36429,
     "status": "ok",
     "timestamp": 1606508767335,
     "user": {
      "displayName": "Ramesh Ravindran",
      "photoUrl": "https://lh3.googleusercontent.com/a-/AOh14GhcjUie2zDWpQEXGBSui04ZAq0Nl9CR7dlOS1FcBg=s64",
      "userId": "08375370966839671912"
     },
     "user_tz": -330
    },
    "id": "UymdR9iUWee4",
    "outputId": "1cbfac3a-f6bb-4d51-dbef-b9c9100e7c4d"
   },
   "outputs": [
    {
     "data": {
      "text/plain": [
       "array([ 43,  57,  12,   4,  68,  35,  42,  53,  70,  99,  49,  89,  30,\n",
       "        11,  48,  60,  32,  82,  91,  73,  16,  23,  14,  29,  94,  61,\n",
       "        92, 103,  58,  88,  81,  98,  95,  79,  24,  47,  21,  55,  74,\n",
       "        83,  28,  22,  96,  64,  46,  54,  40,  10,   5,  13,  72,  97,\n",
       "        33,   6,  78,  45,  85,  19,  41,  51,  27,   2,   7,  56,  59,\n",
       "        37,  26,  15,  80,  38,  36,  52,  69,  84,  87,  71,  90,  67,\n",
       "        25,  65,  93, 102,  77,  31,  75, 100,   9,  66,  18,  39,  17,\n",
       "        62,  34,  76,   1,   8,   0,  44,  63,  86,  50,  20, 101,   3],\n",
       "      dtype=int64)"
      ]
     },
     "execution_count": 37,
     "metadata": {},
     "output_type": "execute_result"
    }
   ],
   "source": [
    "data['carrier'].unique()\n",
    "data['origin'].unique()\n",
    "data['dest'].unique()"
   ]
  },
  {
   "cell_type": "code",
   "execution_count": 38,
   "metadata": {
    "colab": {
     "base_uri": "https://localhost:8080/"
    },
    "executionInfo": {
     "elapsed": 36418,
     "status": "ok",
     "timestamp": 1606508767336,
     "user": {
      "displayName": "Ramesh Ravindran",
      "photoUrl": "https://lh3.googleusercontent.com/a-/AOh14GhcjUie2zDWpQEXGBSui04ZAq0Nl9CR7dlOS1FcBg=s64",
      "userId": "08375370966839671912"
     },
     "user_tz": -330
    },
    "id": "99MSpacGWee4",
    "outputId": "839d6541-f5a6-46b1-d56f-86a4f8a3bd55"
   },
   "outputs": [
    {
     "data": {
      "text/plain": [
       "array([[2013,    1,    1,   11,    0,   43],\n",
       "       [2013,    1,    1,   11,    2,   43],\n",
       "       [2013,    1,    1,    1,    1,   57],\n",
       "       [2013,    1,    1,    3,    1,   12],\n",
       "       [2013,    1,    1,    4,    2,    4]], dtype=int64)"
      ]
     },
     "execution_count": 38,
     "metadata": {},
     "output_type": "execute_result"
    }
   ],
   "source": [
    "X = data.iloc[:, 0:6].values # from column(years) to column(distance)\n",
    "X[0:5]"
   ]
  },
  {
   "cell_type": "code",
   "execution_count": 39,
   "metadata": {
    "colab": {
     "base_uri": "https://localhost:8080/",
     "height": 204
    },
    "executionInfo": {
     "elapsed": 36408,
     "status": "ok",
     "timestamp": 1606508767338,
     "user": {
      "displayName": "Ramesh Ravindran",
      "photoUrl": "https://lh3.googleusercontent.com/a-/AOh14GhcjUie2zDWpQEXGBSui04ZAq0Nl9CR7dlOS1FcBg=s64",
      "userId": "08375370966839671912"
     },
     "user_tz": -330
    },
    "id": "42ZH36GUWee4",
    "outputId": "bb771296-8ead-4492-ddc2-20d463214928"
   },
   "outputs": [
    {
     "data": {
      "text/html": [
       "<div>\n",
       "<style scoped>\n",
       "    .dataframe tbody tr th:only-of-type {\n",
       "        vertical-align: middle;\n",
       "    }\n",
       "\n",
       "    .dataframe tbody tr th {\n",
       "        vertical-align: top;\n",
       "    }\n",
       "\n",
       "    .dataframe thead th {\n",
       "        text-align: right;\n",
       "    }\n",
       "</style>\n",
       "<table border=\"1\" class=\"dataframe\">\n",
       "  <thead>\n",
       "    <tr style=\"text-align: right;\">\n",
       "      <th></th>\n",
       "      <th>delayed</th>\n",
       "    </tr>\n",
       "  </thead>\n",
       "  <tbody>\n",
       "    <tr>\n",
       "      <td>0</td>\n",
       "      <td>0</td>\n",
       "    </tr>\n",
       "    <tr>\n",
       "      <td>1</td>\n",
       "      <td>1</td>\n",
       "    </tr>\n",
       "    <tr>\n",
       "      <td>2</td>\n",
       "      <td>1</td>\n",
       "    </tr>\n",
       "    <tr>\n",
       "      <td>3</td>\n",
       "      <td>0</td>\n",
       "    </tr>\n",
       "    <tr>\n",
       "      <td>4</td>\n",
       "      <td>0</td>\n",
       "    </tr>\n",
       "  </tbody>\n",
       "</table>\n",
       "</div>"
      ],
      "text/plain": [
       "   delayed\n",
       "0        0\n",
       "1        1\n",
       "2        1\n",
       "3        0\n",
       "4        0"
      ]
     },
     "execution_count": 39,
     "metadata": {},
     "output_type": "execute_result"
    }
   ],
   "source": [
    "y = data['delayed']\n",
    "y.head().to_frame()"
   ]
  },
  {
   "cell_type": "code",
   "execution_count": 40,
   "metadata": {
    "colab": {
     "base_uri": "https://localhost:8080/"
    },
    "executionInfo": {
     "elapsed": 36396,
     "status": "ok",
     "timestamp": 1606508767339,
     "user": {
      "displayName": "Ramesh Ravindran",
      "photoUrl": "https://lh3.googleusercontent.com/a-/AOh14GhcjUie2zDWpQEXGBSui04ZAq0Nl9CR7dlOS1FcBg=s64",
      "userId": "08375370966839671912"
     },
     "user_tz": -330
    },
    "id": "veFxKP2eWee4",
    "outputId": "8b0e9140-3e37-41b0-cd08-1dd6453b6eb3"
   },
   "outputs": [
    {
     "data": {
      "text/plain": [
       "array([[ 0.        , -1.63026283, -1.67941389,  1.17176495, -1.16692254,\n",
       "        -0.20437424],\n",
       "       [ 0.        , -1.63026283, -1.67941389,  1.17176495,  1.28675586,\n",
       "        -0.20437424],\n",
       "       [ 0.        , -1.63026283, -1.67941389, -1.24429715,  0.05991666,\n",
       "         0.30070873],\n",
       "       [ 0.        , -1.63026283, -1.67941389, -0.76108473,  0.05991666,\n",
       "        -1.32277224],\n",
       "       [ 0.        , -1.63026283, -1.67941389, -0.51947852,  1.28675586,\n",
       "        -1.61139108]])"
      ]
     },
     "execution_count": 40,
     "metadata": {},
     "output_type": "execute_result"
    }
   ],
   "source": [
    "X = preprocessing.StandardScaler().fit(X).transform(X.astype(float))\n",
    "X[0:5]"
   ]
  },
  {
   "cell_type": "code",
   "execution_count": 41,
   "metadata": {
    "colab": {
     "base_uri": "https://localhost:8080/"
    },
    "executionInfo": {
     "elapsed": 36896,
     "status": "ok",
     "timestamp": 1606508767852,
     "user": {
      "displayName": "Ramesh Ravindran",
      "photoUrl": "https://lh3.googleusercontent.com/a-/AOh14GhcjUie2zDWpQEXGBSui04ZAq0Nl9CR7dlOS1FcBg=s64",
      "userId": "08375370966839671912"
     },
     "user_tz": -330
    },
    "id": "xsCOzGYYWee5",
    "outputId": "fa5af624-fc85-463d-fb39-bf6ebdc5fd27"
   },
   "outputs": [
    {
     "name": "stdout",
     "output_type": "stream",
     "text": [
      "Train set: (261876, 6) (261876,)\n",
      "Test set: (65470, 6) (65470,)\n"
     ]
    }
   ],
   "source": [
    "X_train, X_test, y_train, y_test = train_test_split( X, y, test_size=0.2, random_state=4)\n",
    "print ('Train set:', X_train.shape,  y_train.shape)\n",
    "print ('Test set:', X_test.shape,  y_test.shape)"
   ]
  },
  {
   "cell_type": "markdown",
   "metadata": {
    "id": "zDrYw5igWee5"
   },
   "source": [
    "# Random Forest Classifier"
   ]
  },
  {
   "cell_type": "code",
   "execution_count": 42,
   "metadata": {
    "colab": {
     "base_uri": "https://localhost:8080/"
    },
    "executionInfo": {
     "elapsed": 30593,
     "status": "ok",
     "timestamp": 1606508820564,
     "user": {
      "displayName": "Ramesh Ravindran",
      "photoUrl": "https://lh3.googleusercontent.com/a-/AOh14GhcjUie2zDWpQEXGBSui04ZAq0Nl9CR7dlOS1FcBg=s64",
      "userId": "08375370966839671912"
     },
     "user_tz": -330
    },
    "id": "2Dmye-lgYqYB",
    "outputId": "2a331554-1a9d-4b33-f7bc-61f65abd11a3"
   },
   "outputs": [
    {
     "name": "stderr",
     "output_type": "stream",
     "text": [
      "C:\\Users\\Praveen\\Anaconda3\\lib\\site-packages\\sklearn\\ensemble\\forest.py:245: FutureWarning: The default value of n_estimators will change from 10 in version 0.20 to 100 in 0.22.\n",
      "  \"10 in version 0.20 to 100 in 0.22.\", FutureWarning)\n"
     ]
    },
    {
     "name": "stdout",
     "output_type": "stream",
     "text": [
      "*Confusion Matrix for RF: \n",
      "[[39234  7919]\n",
      " [11844  6473]]\n",
      "*Classification Report for RF: \n",
      "              precision    recall  f1-score   support\n",
      "\n",
      "           0       0.77      0.83      0.80     47153\n",
      "           1       0.45      0.35      0.40     18317\n",
      "\n",
      "    accuracy                           0.70     65470\n",
      "   macro avg       0.61      0.59      0.60     65470\n",
      "weighted avg       0.68      0.70      0.69     65470\n",
      "\n"
     ]
    }
   ],
   "source": [
    "from sklearn.ensemble import RandomForestClassifier\n",
    "RF = RandomForestClassifier(n_jobs=-1,random_state=1000)\n",
    "RF.fit(X_train, y_train)\n",
    "predictions = RF.predict(X_test)\n",
    "print(\"*Confusion Matrix for RF: \")\n",
    "print(confusion_matrix(y_test, predictions))\n",
    "print(\"*Classification Report for RF: \")\n",
    "print(classification_report(y_test, predictions))"
   ]
  },
  {
   "cell_type": "code",
   "execution_count": 43,
   "metadata": {
    "colab": {
     "base_uri": "https://localhost:8080/"
    },
    "executionInfo": {
     "elapsed": 1134,
     "status": "ok",
     "timestamp": 1606508977348,
     "user": {
      "displayName": "Ramesh Ravindran",
      "photoUrl": "https://lh3.googleusercontent.com/a-/AOh14GhcjUie2zDWpQEXGBSui04ZAq0Nl9CR7dlOS1FcBg=s64",
      "userId": "08375370966839671912"
     },
     "user_tz": -330
    },
    "id": "szR_yuzqY36r",
    "outputId": "c7cb5cc7-a849-47f9-9723-4e477d4b6be1"
   },
   "outputs": [
    {
     "name": "stdout",
     "output_type": "stream",
     "text": [
      "0.27977699709790743\n",
      "Accuracy:  0.6981365510921033\n",
      "Sensitivity:  0.8583805544008576\n",
      "Specificity:  0.40069827455345847\n"
     ]
    }
   ],
   "source": [
    "confusion = confusion_matrix(y_test, predictions)\n",
    "TP = confusion[0, 0]\n",
    "TN = confusion[0, 1]\n",
    "FP = confusion[1, 0]\n",
    "FN = confusion[1, 1]\n",
    "classification_error = (FP + FN) / float(TP + TN + FP + FN)\n",
    "\n",
    "print(classification_error)\n",
    "RF_ACC = accuracy_score(y_test, predictions)\n",
    "print(\"Accuracy: \",RF_ACC)\n",
    "from sklearn import metrics\n",
    "RF_sensitivity = (TP / float(FN + TP))\n",
    "\n",
    "print(\"Sensitivity: \",RF_sensitivity)\n",
    "RF_specificity = (TN / (TN + FP))\n",
    "\n",
    "print(\"Specificity: \",RF_specificity)"
   ]
  },
  {
   "cell_type": "markdown",
   "metadata": {},
   "source": [
    "# Decision Tree Classifier"
   ]
  },
  {
   "cell_type": "code",
   "execution_count": 44,
   "metadata": {
    "colab": {
     "base_uri": "https://localhost:8080/"
    },
    "executionInfo": {
     "elapsed": 2218,
     "status": "ok",
     "timestamp": 1606509038769,
     "user": {
      "displayName": "Ramesh Ravindran",
      "photoUrl": "https://lh3.googleusercontent.com/a-/AOh14GhcjUie2zDWpQEXGBSui04ZAq0Nl9CR7dlOS1FcBg=s64",
      "userId": "08375370966839671912"
     },
     "user_tz": -330
    },
    "id": "C7eEzG87Za_q",
    "outputId": "50b80f51-e904-4643-a9ec-a380e2f39066"
   },
   "outputs": [
    {
     "name": "stdout",
     "output_type": "stream",
     "text": [
      "*Confusion Matrix for DT: \n",
      "[[40528  6625]\n",
      " [12684  5633]]\n",
      "*Classification Report for DT: \n",
      "              precision    recall  f1-score   support\n",
      "\n",
      "           0       0.76      0.86      0.81     47153\n",
      "           1       0.46      0.31      0.37     18317\n",
      "\n",
      "    accuracy                           0.71     65470\n",
      "   macro avg       0.61      0.58      0.59     65470\n",
      "weighted avg       0.68      0.71      0.68     65470\n",
      "\n",
      "0.27977699709790743\n",
      "Accuracy:  0.7050710248968993\n",
      "Sensitivity:  0.8779705812265766\n",
      "Specificity:  0.34310425190325755\n"
     ]
    }
   ],
   "source": [
    "from sklearn import tree\n",
    "DT = tree.DecisionTreeClassifier()\n",
    "DT.fit(X_train, y_train)\n",
    "predictions = DT.predict(X_test)\n",
    "print(\"*Confusion Matrix for DT: \")\n",
    "print(confusion_matrix(y_test, predictions))\n",
    "print(\"*Classification Report for DT: \")\n",
    "print(classification_report(y_test, predictions))\n",
    "confusion = confusion_matrix(y_test, predictions)\n",
    "TP = confusion[0, 0]\n",
    "TN = confusion[0, 1]\n",
    "FP = confusion[1, 0]\n",
    "FN = confusion[1, 1]\n",
    "classification_error = (FP + FN) / float(TP + TN + FP + FN)\n",
    "\n",
    "print(classification_error)\n",
    "DT_ACC = accuracy_score(y_test, predictions)\n",
    "print(\"Accuracy: \",DT_ACC)\n",
    "from sklearn import metrics\n",
    "DT_sensitivity = (TP / float(FN + TP))\n",
    "\n",
    "print(\"Sensitivity: \",DT_sensitivity)\n",
    "DT_specificity = (TN / (TN + FP))\n",
    "\n",
    "print(\"Specificity: \",DT_specificity)"
   ]
  },
  {
   "cell_type": "markdown",
   "metadata": {},
   "source": [
    "# MLP Classifier"
   ]
  },
  {
   "cell_type": "code",
   "execution_count": null,
   "metadata": {
    "colab": {
     "base_uri": "https://localhost:8080/"
    },
    "executionInfo": {
     "elapsed": 46119,
     "status": "ok",
     "timestamp": 1606509165005,
     "user": {
      "displayName": "Ramesh Ravindran",
      "photoUrl": "https://lh3.googleusercontent.com/a-/AOh14GhcjUie2zDWpQEXGBSui04ZAq0Nl9CR7dlOS1FcBg=s64",
      "userId": "08375370966839671912"
     },
     "user_tz": -330
    },
    "id": "nFpgXonBZq0x",
    "outputId": "79c9cab0-f36b-49fd-dfb5-1fd29c5a3913"
   },
   "outputs": [],
   "source": [
    "from sklearn.neural_network import MLPClassifier\n",
    "MLP = MLPClassifier()\n",
    "MLP.fit(X_train, y_train)\n",
    "predictions = MLP.predict(X_test)\n",
    "print(\"*Confusion Matrix for MLP: \")\n",
    "print(confusion_matrix(y_test, predictions))\n",
    "print(\"*Classification Report for MLP: \")\n",
    "print(classification_report(y_test, predictions))\n",
    "confusion = confusion_matrix(y_test, predictions)\n",
    "TP = confusion[0, 0]\n",
    "TN = confusion[0, 1]\n",
    "FP = confusion[1, 0]\n",
    "FN = confusion[1, 1]\n",
    "classification_error = (FP + FN) / float(TP + TN + FP + FN)\n",
    "\n",
    "print(classification_error)\n",
    "MLP_ACC = accuracy_score(y_test, predictions)\n",
    "print(\"Accuracy: \",MLP_ACC)\n",
    "from sklearn import metrics\n",
    "MLP_sensitivity = (TP / float(FN + TP))\n",
    "\n",
    "print(\"Sensitivity: \",MLP_sensitivity)\n",
    "MLP_specificity = (TN / (TN + FP))\n",
    "\n",
    "print(\"Specificity: \",MLP_specificity)"
   ]
  },
  {
   "cell_type": "markdown",
   "metadata": {},
   "source": [
    "# Bernoulli Naive Bayes"
   ]
  },
  {
   "cell_type": "code",
   "execution_count": null,
   "metadata": {
    "colab": {
     "base_uri": "https://localhost:8080/"
    },
    "executionInfo": {
     "elapsed": 1611,
     "status": "ok",
     "timestamp": 1606509573741,
     "user": {
      "displayName": "Ramesh Ravindran",
      "photoUrl": "https://lh3.googleusercontent.com/a-/AOh14GhcjUie2zDWpQEXGBSui04ZAq0Nl9CR7dlOS1FcBg=s64",
      "userId": "08375370966839671912"
     },
     "user_tz": -330
    },
    "id": "RAyFOtLOaIwd",
    "outputId": "41d4bef7-1691-4056-df09-ef69bf052b3f"
   },
   "outputs": [],
   "source": [
    "from sklearn.naive_bayes import BernoulliNB\n",
    "BNB = BernoulliNB()\n",
    "BNB.fit(X_train, y_train)\n",
    "predictions = BNB.predict(X_test)\n",
    "print(\"*Confusion Matrix for BNB: \")\n",
    "print(confusion_matrix(y_test, predictions))\n",
    "print(\"*Classification Report for BNB: \")\n",
    "print(classification_report(y_test, predictions))\n",
    "confusion = confusion_matrix(y_test, predictions)\n",
    "TP = confusion[0, 0]\n",
    "TN = confusion[0, 1]\n",
    "FP = confusion[1, 0]\n",
    "FN = confusion[1, 1]\n",
    "classification_error = (FP + FN) / float(TP + TN + FP + FN)\n",
    "\n",
    "print(classification_error)\n",
    "BNB_ACC = accuracy_score(y_test, predictions)\n",
    "print(\"Accuracy: \",BNB_ACC)\n",
    "from sklearn import metrics\n",
    "BNB_sensitivity = (TP / float(FN + TP))\n",
    "\n",
    "print(\"Sensitivity: \",BNB_sensitivity)\n",
    "BNB_specificity = (TN / (TN + FP))\n",
    "\n",
    "print(\"Specificity: \",BNB_specificity)"
   ]
  },
  {
   "cell_type": "markdown",
   "metadata": {},
   "source": [
    "# KNeighbors Classifier"
   ]
  },
  {
   "cell_type": "code",
   "execution_count": null,
   "metadata": {
    "colab": {
     "base_uri": "https://localhost:8080/"
    },
    "executionInfo": {
     "elapsed": 7209,
     "status": "ok",
     "timestamp": 1606509586235,
     "user": {
      "displayName": "Ramesh Ravindran",
      "photoUrl": "https://lh3.googleusercontent.com/a-/AOh14GhcjUie2zDWpQEXGBSui04ZAq0Nl9CR7dlOS1FcBg=s64",
      "userId": "08375370966839671912"
     },
     "user_tz": -330
    },
    "id": "VKmcNPhqalal",
    "outputId": "b569aba9-3788-42fe-fa6f-2b1184cf5e81"
   },
   "outputs": [],
   "source": [
    "from sklearn.neighbors import KNeighborsClassifier\n",
    "KNN = KNeighborsClassifier()\n",
    "KNN.fit(X_train, y_train)\n",
    "predictions = KNN.predict(X_test)\n",
    "print(\"*Confusion Matrix for KNN: \")\n",
    "print(confusion_matrix(y_test, predictions))\n",
    "print(\"*Classification Report for KNN: \")\n",
    "print(classification_report(y_test, predictions))\n",
    "confusion = confusion_matrix(y_test, predictions)\n",
    "TP = confusion[0, 0]\n",
    "TN = confusion[0, 1]\n",
    "FP = confusion[1, 0]\n",
    "FN = confusion[1, 1]\n",
    "classification_error = (FP + FN) / float(TP + TN + FP + FN)\n",
    "\n",
    "print(classification_error)\n",
    "KNN_ACC = accuracy_score(y_test, predictions)\n",
    "print(\"Accuracy: \",KNN_ACC)\n",
    "from sklearn import metrics\n",
    "KNN_sensitivity = (TP / float(FN + TP))\n",
    "\n",
    "print(\"Sensitivity: \",KNN_sensitivity)\n",
    "KNN_specificity = (TN / (TN + FP))\n",
    "\n",
    "print(\"Specificity: \",KNN_specificity)"
   ]
  },
  {
   "cell_type": "markdown",
   "metadata": {},
   "source": [
    "# Model Comparsion"
   ]
  },
  {
   "cell_type": "markdown",
   "metadata": {},
   "source": [
    "# Accuracy"
   ]
  },
  {
   "cell_type": "code",
   "execution_count": 1,
   "metadata": {
    "colab": {
     "base_uri": "https://localhost:8080/",
     "height": 649
    },
    "executionInfo": {
     "elapsed": 2313,
     "status": "ok",
     "timestamp": 1606509939313,
     "user": {
      "displayName": "Ramesh Ravindran",
      "photoUrl": "https://lh3.googleusercontent.com/a-/AOh14GhcjUie2zDWpQEXGBSui04ZAq0Nl9CR7dlOS1FcBg=s64",
      "userId": "08375370966839671912"
     },
     "user_tz": -330
    },
    "id": "SpuB6I31cjAW",
    "outputId": "cba66a12-c6ee-41c8-c832-8d271fdc710d"
   },
   "outputs": [
    {
     "ename": "NameError",
     "evalue": "name 'RF_ACC' is not defined",
     "output_type": "error",
     "traceback": [
      "\u001b[1;31m---------------------------------------------------------------------------\u001b[0m",
      "\u001b[1;31mNameError\u001b[0m                                 Traceback (most recent call last)",
      "\u001b[1;32m<ipython-input-1-940bf32d48ad>\u001b[0m in \u001b[0;36m<module>\u001b[1;34m\u001b[0m\n\u001b[0;32m      4\u001b[0m \u001b[1;33m\u001b[0m\u001b[0m\n\u001b[0;32m      5\u001b[0m \u001b[1;31m# Bring some raw data.\u001b[0m\u001b[1;33m\u001b[0m\u001b[1;33m\u001b[0m\u001b[1;33m\u001b[0m\u001b[0m\n\u001b[1;32m----> 6\u001b[1;33m \u001b[0mfrequencies\u001b[0m \u001b[1;33m=\u001b[0m \u001b[1;33m[\u001b[0m\u001b[0mRF_ACC\u001b[0m\u001b[1;33m,\u001b[0m\u001b[0mDT_ACC\u001b[0m\u001b[1;33m,\u001b[0m\u001b[0mMLP_ACC\u001b[0m\u001b[1;33m,\u001b[0m\u001b[0mBNB_ACC\u001b[0m\u001b[1;33m,\u001b[0m\u001b[0mKNN_ACC\u001b[0m\u001b[1;33m]\u001b[0m\u001b[1;33m\u001b[0m\u001b[1;33m\u001b[0m\u001b[0m\n\u001b[0m\u001b[0;32m      7\u001b[0m \u001b[1;33m\u001b[0m\u001b[0m\n\u001b[0;32m      8\u001b[0m \u001b[1;31m# In my original code I create a series and run on that,\u001b[0m\u001b[1;33m\u001b[0m\u001b[1;33m\u001b[0m\u001b[1;33m\u001b[0m\u001b[0m\n",
      "\u001b[1;31mNameError\u001b[0m: name 'RF_ACC' is not defined"
     ]
    }
   ],
   "source": [
    "import numpy as np\n",
    "import pandas as pd\n",
    "import matplotlib.pyplot as plt\n",
    "\n",
    "# Bring some raw data.\n",
    "frequencies = [RF_ACC,DT_ACC,MLP_ACC,BNB_ACC,KNN_ACC]\n",
    "\n",
    "# In my original code I create a series and run on that,\n",
    "# so for consistency I create a series from the list.\n",
    "freq_series = pd.Series(frequencies)\n",
    "\n",
    "x_labels = ['RF','DT','MLP','BNB','KNN']\n",
    "\n",
    "# Plot the figure.\n",
    "plt.figure(figsize=(12, 8))\n",
    "ax = freq_series.plot(kind='bar')\n",
    "ax.set_title('Evaluation of ML & DL')\n",
    "ax.set_xlabel('Classifier!')\n",
    "ax.set_ylabel('Accuracy Range')\n",
    "ax.set_xticklabels(x_labels)\n",
    "\n",
    "\n",
    "def add_value_labels(ax, spacing=5):\n",
    "    \"\"\"Add labels to the end of each bar in a bar chart.\n",
    "\n",
    "    Arguments:\n",
    "        ax (matplotlib.axes.Axes): The matplotlib object containing the axes\n",
    "            of the plot to annotate.\n",
    "        spacing (int): The distance between the labels and the bars.\n",
    "    \"\"\"\n",
    "\n",
    "    # For each bar: Place a label\n",
    "    for rect in ax.patches:\n",
    "        # Get X and Y placement of label from rect.\n",
    "        y_value = rect.get_height()\n",
    "        x_value = rect.get_x() + rect.get_width() / 2\n",
    "\n",
    "        # Number of points between bar and label. Change to your liking.\n",
    "        space = spacing\n",
    "        # Vertical alignment for positive values\n",
    "        va = 'bottom'\n",
    "\n",
    "        # If value of bar is negative: Place label below bar\n",
    "        if y_value < 0:\n",
    "            # Invert space to place label below\n",
    "            space *= -1\n",
    "            # Vertically align label at top\n",
    "            va = 'top'\n",
    "\n",
    "        # Use Y value as label and format number with one decimal place\n",
    "        label = \"{:.1f}\".format(y_value)\n",
    "\n",
    "        # Create annotation\n",
    "        ax.annotate(\n",
    "            label,                      # Use `label` as label\n",
    "            (x_value, y_value),         # Place label at end of the bar\n",
    "            xytext=(0, space),          # Vertically shift label by `space`\n",
    "            textcoords=\"offset points\", # Interpret `xytext` as offset in points\n",
    "            ha='center',                # Horizontally center label\n",
    "            va=va)                      # Vertically align label differently for\n",
    "                                        # positive and negative values.\n",
    "\n",
    "\n",
    "# Call the function above. All the magic happens there.\n",
    "add_value_labels(ax)\n",
    "plt.show()\n",
    "#plt.savefig(\"image.png\")"
   ]
  },
  {
   "cell_type": "markdown",
   "metadata": {},
   "source": [
    "# Sensitivity"
   ]
  },
  {
   "cell_type": "code",
   "execution_count": null,
   "metadata": {
    "colab": {
     "base_uri": "https://localhost:8080/",
     "height": 649
    },
    "executionInfo": {
     "elapsed": 1203,
     "status": "ok",
     "timestamp": 1606509983699,
     "user": {
      "displayName": "Ramesh Ravindran",
      "photoUrl": "https://lh3.googleusercontent.com/a-/AOh14GhcjUie2zDWpQEXGBSui04ZAq0Nl9CR7dlOS1FcBg=s64",
      "userId": "08375370966839671912"
     },
     "user_tz": -330
    },
    "id": "_lRYF1K4dHmR",
    "outputId": "641da404-18f1-4935-a7dc-bd203aeffaba"
   },
   "outputs": [],
   "source": [
    "import numpy as np\n",
    "import pandas as pd\n",
    "import matplotlib.pyplot as plt\n",
    "\n",
    "# Bring some raw data.\n",
    "frequencies = [RF_sensitivity,DT_sensitivity,MLP_sensitivity,BNB_sensitivity,KNN_sensitivity]\n",
    "\n",
    "# In my original code I create a series and run on that,\n",
    "# so for consistency I create a series from the list.\n",
    "freq_series = pd.Series(frequencies)\n",
    "\n",
    "x_labels = ['RF','DT','MLP','BNB','KNN']\n",
    "\n",
    "# Plot the figure.\n",
    "plt.figure(figsize=(12, 8))\n",
    "ax = freq_series.plot(kind='bar')\n",
    "ax.set_title('Evaluation of ML & DL')\n",
    "ax.set_xlabel('Classifier!')\n",
    "ax.set_ylabel('Accuracy Range')\n",
    "ax.set_xticklabels(x_labels)\n",
    "\n",
    "\n",
    "def add_value_labels(ax, spacing=5):\n",
    "    \"\"\"Add labels to the end of each bar in a bar chart.\n",
    "\n",
    "    Arguments:\n",
    "        ax (matplotlib.axes.Axes): The matplotlib object containing the axes\n",
    "            of the plot to annotate.\n",
    "        spacing (int): The distance between the labels and the bars.\n",
    "    \"\"\"\n",
    "\n",
    "    # For each bar: Place a label\n",
    "    for rect in ax.patches:\n",
    "        # Get X and Y placement of label from rect.\n",
    "        y_value = rect.get_height()\n",
    "        x_value = rect.get_x() + rect.get_width() / 2\n",
    "\n",
    "        # Number of points between bar and label. Change to your liking.\n",
    "        space = spacing\n",
    "        # Vertical alignment for positive values\n",
    "        va = 'bottom'\n",
    "\n",
    "        # If value of bar is negative: Place label below bar\n",
    "        if y_value < 0:\n",
    "            # Invert space to place label below\n",
    "            space *= -1\n",
    "            # Vertically align label at top\n",
    "            va = 'top'\n",
    "\n",
    "        # Use Y value as label and format number with one decimal place\n",
    "        label = \"{:.1f}\".format(y_value)\n",
    "\n",
    "        # Create annotation\n",
    "        ax.annotate(\n",
    "            label,                      # Use `label` as label\n",
    "            (x_value, y_value),         # Place label at end of the bar\n",
    "            xytext=(0, space),          # Vertically shift label by `space`\n",
    "            textcoords=\"offset points\", # Interpret `xytext` as offset in points\n",
    "            ha='center',                # Horizontally center label\n",
    "            va=va)                      # Vertically align label differently for\n",
    "                                        # positive and negative values.\n",
    "\n",
    "\n",
    "# Call the function above. All the magic happens there.\n",
    "add_value_labels(ax)\n",
    "plt.show()\n",
    "#plt.savefig(\"image.png\")"
   ]
  },
  {
   "cell_type": "markdown",
   "metadata": {},
   "source": [
    "# Specificity"
   ]
  },
  {
   "cell_type": "code",
   "execution_count": null,
   "metadata": {
    "colab": {
     "base_uri": "https://localhost:8080/",
     "height": 643
    },
    "executionInfo": {
     "elapsed": 1331,
     "status": "ok",
     "timestamp": 1606510011531,
     "user": {
      "displayName": "Ramesh Ravindran",
      "photoUrl": "https://lh3.googleusercontent.com/a-/AOh14GhcjUie2zDWpQEXGBSui04ZAq0Nl9CR7dlOS1FcBg=s64",
      "userId": "08375370966839671912"
     },
     "user_tz": -330
    },
    "id": "YUv7jp3EdQhN",
    "outputId": "d92c0791-ecc7-43a3-8bee-4e4a856c43f8"
   },
   "outputs": [],
   "source": [
    "import numpy as np\n",
    "import pandas as pd\n",
    "import matplotlib.pyplot as plt\n",
    "\n",
    "# Bring some raw data.\n",
    "frequencies = [RF_specificity,DT_specificity,MLP_specificity,BNB_specificity,KNN_specificity]\n",
    "\n",
    "# In my original code I create a series and run on that,\n",
    "# so for consistency I create a series from the list.\n",
    "freq_series = pd.Series(frequencies)\n",
    "\n",
    "x_labels = ['RF','DT','MLP','BNB','KNN']\n",
    "\n",
    "# Plot the figure.\n",
    "plt.figure(figsize=(12, 8))\n",
    "ax = freq_series.plot(kind='bar')\n",
    "ax.set_title('Evaluation of ML & DL')\n",
    "ax.set_xlabel('Classifier!')\n",
    "ax.set_ylabel('Accuracy Range')\n",
    "ax.set_xticklabels(x_labels)\n",
    "\n",
    "\n",
    "def add_value_labels(ax, spacing=5):\n",
    "    \"\"\"Add labels to the end of each bar in a bar chart.\n",
    "\n",
    "    Arguments:\n",
    "        ax (matplotlib.axes.Axes): The matplotlib object containing the axes\n",
    "            of the plot to annotate.\n",
    "        spacing (int): The distance between the labels and the bars.\n",
    "    \"\"\"\n",
    "\n",
    "    # For each bar: Place a label\n",
    "    for rect in ax.patches:\n",
    "        # Get X and Y placement of label from rect.\n",
    "        y_value = rect.get_height()\n",
    "        x_value = rect.get_x() + rect.get_width() / 2\n",
    "\n",
    "        # Number of points between bar and label. Change to your liking.\n",
    "        space = spacing\n",
    "        # Vertical alignment for positive values\n",
    "        va = 'bottom'\n",
    "\n",
    "        # If value of bar is negative: Place label below bar\n",
    "        if y_value < 0:\n",
    "            # Invert space to place label below\n",
    "            space *= -1\n",
    "            # Vertically align label at top\n",
    "            va = 'top'\n",
    "\n",
    "        # Use Y value as label and format number with one decimal place\n",
    "        label = \"{:.1f}\".format(y_value)\n",
    "\n",
    "        # Create annotation\n",
    "        ax.annotate(\n",
    "            label,                      # Use `label` as label\n",
    "            (x_value, y_value),         # Place label at end of the bar\n",
    "            xytext=(0, space),          # Vertically shift label by `space`\n",
    "            textcoords=\"offset points\", # Interpret `xytext` as offset in points\n",
    "            ha='center',                # Horizontally center label\n",
    "            va=va)                      # Vertically align label differently for\n",
    "                                        # positive and negative values.\n",
    "\n",
    "\n",
    "# Call the function above. All the magic happens there.\n",
    "add_value_labels(ax)\n",
    "plt.show()\n",
    "#plt.savefig(\"image.png\")"
   ]
  },
  {
   "cell_type": "markdown",
   "metadata": {},
   "source": [
    "All Three"
   ]
  },
  {
   "cell_type": "code",
   "execution_count": null,
   "metadata": {
    "colab": {
     "base_uri": "https://localhost:8080/",
     "height": 444
    },
    "executionInfo": {
     "elapsed": 1176,
     "status": "ok",
     "timestamp": 1606510082308,
     "user": {
      "displayName": "Ramesh Ravindran",
      "photoUrl": "https://lh3.googleusercontent.com/a-/AOh14GhcjUie2zDWpQEXGBSui04ZAq0Nl9CR7dlOS1FcBg=s64",
      "userId": "08375370966839671912"
     },
     "user_tz": -330
    },
    "id": "eatimxMGdYQQ",
    "outputId": "24738540-393a-4b7b-d530-b226ac7e96e7"
   },
   "outputs": [],
   "source": [
    "import numpy as np\n",
    "import matplotlib.pyplot as plt\n",
    "\n",
    "N = 5\n",
    "ind = np.arange(N)  # the x locations for the groups\n",
    "width = 0.2      # the width of the bars\n",
    "\n",
    "fig = plt.figure()\n",
    "ax = fig.add_subplot(111)\n",
    "\n",
    "yvals = [RF_ACC,DT_ACC,MLP_ACC,BNB_ACC,KNN_ACC]\n",
    "\n",
    "rects1 = ax.bar(ind, yvals, width, color='r')\n",
    "zvals = [RF_sensitivity,DT_sensitivity,MLP_sensitivity,BNB_sensitivity,KNN_sensitivity]\n",
    "rects2 = ax.bar(ind+width, zvals, width, color='g')\n",
    "kvals = [RF_specificity,DT_specificity,MLP_specificity,BNB_specificity,KNN_specificity]\n",
    "rects3 = ax.bar(ind+width*2, kvals, width, color='b')\n",
    "\n",
    "ax.set_ylabel('Scores')\n",
    "ax.set_xticks(ind+width)\n",
    "ax.set_xticklabels( ('RF','DT','MLP','BNB','KNN') )\n",
    "ax.legend( (rects1[0], rects2[0], rects3[0]), ('Accuracy', 'Sensitvity', 'Specificity') )\n",
    "\n",
    "def autolabel(rects):\n",
    "    for rect in rects:\n",
    "        h = rect.get_height()\n",
    "        ax.text(rect.get_x()+rect.get_width()/2., 1.05*h, '%d'%int(h),\n",
    "                ha='center', va='bottom')\n",
    "\n",
    "autolabel(rects1)\n",
    "autolabel(rects2)\n",
    "autolabel(rects3)\n",
    "\n",
    "plt.show()"
   ]
  }
 ],
 "metadata": {
  "colab": {
   "collapsed_sections": [],
   "name": "main.ipynb",
   "provenance": []
  },
  "kernelspec": {
   "display_name": "Python 3",
   "language": "python",
   "name": "python3"
  },
  "language_info": {
   "codemirror_mode": {
    "name": "ipython",
    "version": 3
   },
   "file_extension": ".py",
   "mimetype": "text/x-python",
   "name": "python",
   "nbconvert_exporter": "python",
   "pygments_lexer": "ipython3",
   "version": "3.7.4"
  }
 },
 "nbformat": 4,
 "nbformat_minor": 1
}
